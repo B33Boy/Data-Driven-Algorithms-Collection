{
 "cells": [
  {
   "cell_type": "markdown",
   "metadata": {},
   "source": [
    "# Univariate Linear Regression"
   ]
  },
  {
   "cell_type": "code",
   "execution_count": 1,
   "metadata": {},
   "outputs": [],
   "source": [
    "import numpy as np\n",
    "import matplotlib.pyplot as plt"
   ]
  },
  {
   "cell_type": "code",
   "execution_count": 2,
   "metadata": {},
   "outputs": [],
   "source": [
    "#Parse data, define m and n values\n",
    "\n",
    "points = np.genfromtxt('ex1data1.txt', delimiter = ',')\n",
    "m, n = points.shape\n",
    "\n",
    "x = np.array(points[:, :-1]) \n",
    "y = np.array(points[:, -1:]) # We do -1: to make sure the shape of y is (m,1) instead of (m,)"
   ]
  },
  {
   "cell_type": "code",
   "execution_count": 3,
   "metadata": {},
   "outputs": [
    {
     "data": {
      "image/png": "[encoded data removed]",
      "text/plain": [
       "<Figure size 432x288 with 1 Axes>"
      ]
     },
     "metadata": {
      "needs_background": "light"
     },
     "output_type": "display_data"
    }
   ],
   "source": [
    "plt.scatter(x, y, marker = 'o')\n",
    "\n",
    "plt.xlabel('Population of City in 10,000s')\n",
    "plt.ylabel(\"Profit in $10,000s\")\n",
    "plt.show()"
   ]
  },
  {
   "cell_type": "code",
   "execution_count": 4,
   "metadata": {},
   "outputs": [],
   "source": [
    "# Add a column of ones to x, we will call this X\n",
    "X = np.ones((m,n))\n",
    "X[:,1:] = x"
   ]
  },
  {
   "cell_type": "code",
   "execution_count": 5,
   "metadata": {},
   "outputs": [],
   "source": [
    "#Hyperparameters\n",
    "iterations = 20000\n",
    "alpha = 0.01\n",
    "\n",
    "theta = np.zeros((2, 1))"
   ]
  },
  {
   "cell_type": "code",
   "execution_count": 6,
   "metadata": {},
   "outputs": [],
   "source": [
    "def cost(x, y, theta):\n",
    "    #Number of training samples\n",
    "    m = y.shape[0]\n",
    "    cost = np.square(np.dot(x, theta) - y)\n",
    "\n",
    "    J = cost.sum()/(2 * m)\n",
    "\n",
    "    return J"
   ]
  },
  {
   "cell_type": "code",
   "execution_count": 7,
   "metadata": {},
   "outputs": [
    {
     "data": {
      "text/plain": [
       "(2, 1)"
      ]
     },
     "execution_count": 7,
     "metadata": {},
     "output_type": "execute_result"
    }
   ],
   "source": [
    "# def gradient_descent(x, y, theta, alpha, iterations):\n",
    "#     m = y.shape[0]\n",
    "#     temp0, temp1 = 0, 0\n",
    "    \n",
    "#     for i in range(iterations):\n",
    "#         temp0 = (np.dot(x, theta) - y) * x[:, 0]\n",
    "#         temp1 = (np.dot(x, theta) - y) * x[:, 1]\n",
    "\n",
    "#         theta[0] = theta[0] - alpha * temp0.sum() / m\n",
    "#         theta[1] = theta[1] - alpha * temp1.sum() / m\n",
    "\n",
    "#     return theta\n",
    "\n",
    "def gradient_descent(x, y, theta, alpha, iterations):\n",
    "    m = y.shape[0]\n",
    "    \n",
    "    theta_new = np.ones((np.shape(theta)[0], np.shape(theta)[1]))\n",
    "    theta_history = []\n",
    "    \n",
    "    for i in range(iterations):\n",
    "        theta_new = theta_new - alpha * np.dot(x.T, (np.dot(x, theta_new) - y)) /m\n",
    "        theta_history.append(theta_new)\n",
    "        \n",
    "    return theta_new, theta_history \n",
    "\n",
    "theta, theta_hist = gradient_descent(X,y,theta,alpha,iterations)\n",
    "theta_hist[0].shape"
   ]
  },
  {
   "cell_type": "code",
   "execution_count": 8,
   "metadata": {},
   "outputs": [
    {
     "data": {
      "image/png": "[encoded data removed]",
      "text/plain": [
       "<Figure size 432x288 with 1 Axes>"
      ]
     },
     "metadata": {
      "needs_background": "light"
     },
     "output_type": "display_data"
    }
   ],
   "source": [
    "#Set up the hypothesis for plotting\n",
    "\n",
    "x_plt = np.arange(5,26,5)\n",
    "y_plt = theta[0] + theta[1] * x_plt\n",
    "\n",
    "#Plot both the data points as well as the line of best fit\n",
    "plt.plot(x, y, 'o')\n",
    "plt.plot(x_plt,y_plt)\n",
    "plt.show() "
   ]
  },
  {
   "cell_type": "code",
   "execution_count": 9,
   "metadata": {},
   "outputs": [
    {
     "data": {
      "text/plain": [
       "4.476971375975179"
      ]
     },
     "execution_count": 9,
     "metadata": {},
     "output_type": "execute_result"
    }
   ],
   "source": [
    "cost(X,y,theta)"
   ]
  },
  {
   "cell_type": "code",
   "execution_count": 10,
   "metadata": {},
   "outputs": [
    {
     "data": {
      "image/png": "[encoded data removed]",
      "text/plain": [
       "<Figure size 432x288 with 1 Axes>"
      ]
     },
     "metadata": {
      "needs_background": "light"
     },
     "output_type": "display_data"
    }
   ],
   "source": [
    "# Plotting Cost over the Number of Iterations\n",
    "cost_x = np.arange(iterations)\n",
    "cost_y = np.zeros((iterations))\n",
    "\n",
    "for i in range(iterations):\n",
    "    # We need to reshape theta_hist[i] because we want to feed in a [2x1] matrix\n",
    "    cost_y[i] = cost(X,y,theta_hist[i])\n",
    "    \n",
    "#Plot both the data points as well as the line of best fit\n",
    "plt.plot(cost_x, cost_y)\n",
    "plt.show() "
   ]
  },
  {
   "cell_type": "code",
   "execution_count": null,
   "metadata": {},
   "outputs": [],
   "source": []
  }
 ],
 "metadata": {
  "kernelspec": {
   "display_name": "Python 2",
   "language": "python",
   "name": "python2"
  },
  "language_info": {
   "codemirror_mode": {
    "name": "ipython",
    "version": 2
   },
   "file_extension": ".py",
   "mimetype": "text/x-python",
   "name": "python",
   "nbconvert_exporter": "python",
   "pygments_lexer": "ipython2",
   "version": "2.7.15"
  },
  "widgets": {
   "state": {},
   "version": "1.1.2"
  }
 },
 "nbformat": 4,
 "nbformat_minor": 2
}
