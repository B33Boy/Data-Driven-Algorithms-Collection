{
 "cells": [
  {
   "cell_type": "code",
   "execution_count": 60,
   "metadata": {},
   "outputs": [],
   "source": [
    "import numpy as np\n",
    "import pandas as pd\n",
    "import matplotlib.pyplot as plt"
   ]
  },
  {
   "cell_type": "code",
   "execution_count": 61,
   "metadata": {},
   "outputs": [
    {
     "data": {
      "image/png": "[encoded data removed]",
      "text/plain": [
       "<Figure size 720x720 with 2 Axes>"
      ]
     },
     "metadata": {
      "needs_background": "light"
     },
     "output_type": "display_data"
    }
   ],
   "source": [
    "def vplot2D(ax, v, colours, xlim=[-5,5], ylim=[-5,5]):\n",
    "    # append two columns of zeros to the left (represents origin)\n",
    "    vplot = np.vstack((np.zeros((2,v.shape[1])), v))\n",
    "    ax.quiver(vplot[0,:], vplot[1,:], vplot[2,:], vplot[3,:], angles='xy', scale_units='xy', scale=1, color=colours)\n",
    "    \n",
    "    # Set the limits so arrows are not out of view\n",
    "    ax.set_xlim(xlim)\n",
    "    ax.set_ylim(ylim)\n",
    "    \n",
    "    # Show the major grid lines with dark grey lines\n",
    "    ax.grid(b=True, which='major', color='#666666', linestyle='-')\n",
    "\n",
    "    # Show the minor grid lines with very faint and almost transparent grey lines\n",
    "    ax.minorticks_on()\n",
    "    ax.grid(b=True, which='minor', color='#999999', linestyle='-', alpha=0.2)\n",
    "    ax.set_aspect(1)\n",
    "\n",
    "# Testing the plotting function\n",
    "# Set 2x1 figure    \n",
    "fig, ax = plt.subplots(1,2, figsize=(10,10))\n",
    "\n",
    "v1 = np.array([[-3, 1, -2],\n",
    "               [2, 2, -2]])\n",
    "v2 = np.array([[1, 1], \n",
    "               [-1, 1]])\n",
    "cols = ['#FF0000', '#00FF00', \"#000FFF\"]\n",
    "\n",
    "vplot2D(ax[0], v1, colours=cols)\n",
    "vplot2D(ax[1], v2, colours=cols)"
   ]
  },
  {
   "cell_type": "markdown",
   "metadata": {},
   "source": [
    "### Principle Component Analysis (PCA) is a method of dimensionality reduction to minimize redundancy of an overdetermined system. \n",
    "\n",
    "### Suppose you have m number of data points x and y in a column vector:\n",
    "\n",
    "$X = \\begin{bmatrix}\n",
    "           x_{1} \\\\\n",
    "           y_{1} \\\\\n",
    "           x_{2} \\\\\n",
    "           y_{2} \\\\\n",
    "           x_{3} \\\\\n",
    "           y_{3}\n",
    "\\end{bmatrix} $\n",
    "\n"
   ]
  },
  {
   "cell_type": "code",
   "execution_count": 65,
   "metadata": {},
   "outputs": [
    {
     "data": {
      "text/plain": [
       "array([[ 1],\n",
       "       [ 2],\n",
       "       [ 0],\n",
       "       [-1],\n",
       "       [ 1],\n",
       "       [ 3]])"
      ]
     },
     "execution_count": 65,
     "metadata": {},
     "output_type": "execute_result"
    },
    {
     "data": {
      "image/png": "[encoded data removed]",
      "text/plain": [
       "<Figure size 360x360 with 1 Axes>"
      ]
     },
     "metadata": {
      "needs_background": "light"
     },
     "output_type": "display_data"
    }
   ],
   "source": [
    "fig, ax = plt.subplots(1, figsize=(5,5))\n",
    "\n",
    "v1 = np.array([[1,  0, 1],\n",
    "               [2, -2, 4]])\n",
    "\n",
    "cols = ['#FF0000', '#00FF00', \"#000FFF\"]\n",
    "\n",
    "vplot2D(ax, v1, colours=cols)\n",
    "\n",
    "# Chosen values for X\n",
    "X = np.array([[1],[2],[0],[-1],[1],[3]])\n",
    "X"
   ]
  },
  {
   "cell_type": "markdown",
   "metadata": {},
   "source": [
    "### We know that variance is a single-value measure of the spread of data. Covariance allows us to see how the directions of two vectors differ from each other. $C_{X}=\\dfrac{1}{n-1}XX^{T}$. Orthogonal vectors are indicated by a 0 covariance, which means that they are statistically independent. \n",
    "\n",
    "### Note the following: \n",
    "- The values along the main diagonal ($C_{i,j}$ where $i=j$) measure variance \n",
    "- Non-diagonals are symmetric $C_{i,j} = C_{j,i}$ and measure covariance\n",
    "- Smaller values indicate that vectors are more statistically independent\n",
    "- Higher values indicate that vectors are more statistically dependent, and thus redundant\n",
    "\n",
    "$$Cov(X) = \n",
    "\\begin{bmatrix}\n",
    "    \\sigma^{2}_{x_{1},x_{1}} & \\sigma^{2}_{x_{1},y_{1}} & \\sigma^{2}_{x_{1},x_{2}} & ... & \\sigma^{2}_{x_{1},y_{3}} \\\\\n",
    "    \\sigma^{2}_{y_{1},x_{1}} & \\sigma^{2}_{y_{1},y_{1}} & \\sigma^{2}_{y_{1},x_{2}} & ... & \\sigma^{2}_{y_{1},y_{3}} \\\\\n",
    "    \\sigma^{2}_{x_{2},x_{1}} & \\sigma^{2}_{x_{2},y_{1}} & \\sigma^{2}_{x_{2},x_{2}} & ... & \\sigma^{2}_{x_{2},y_{3}} \\\\\n",
    "    \\vdots                   & \\vdots                   & \\vdots                   & \\ddots & \\vdots \\\\\n",
    "    \\sigma^{2}_{y_{3},x_{1}} & \\sigma^{2}_{y_{3},y_{1}} & \\sigma^{2}_{y_{3},x_{2}} & ... & \\sigma^{2}_{y_{3},y_{3}} \\\\\n",
    "\\end{bmatrix}\n",
    "$$\n",
    "\n",
    "### Our goal is to diagonalize the covariance matrix to remove redundancies. We are going to use SVD, though Eigendecomposition can also be used."
   ]
  },
  {
   "cell_type": "code",
   "execution_count": 66,
   "metadata": {},
   "outputs": [
    {
     "data": {
      "text/plain": [
       "array([[ 0.2,  0.4,  0. , -0.2,  0.2,  0.6],\n",
       "       [ 0.4,  0.8,  0. , -0.4,  0.4,  1.2],\n",
       "       [ 0. ,  0. ,  0. ,  0. ,  0. ,  0. ],\n",
       "       [-0.2, -0.4,  0. ,  0.2, -0.2, -0.6],\n",
       "       [ 0.2,  0.4,  0. , -0.2,  0.2,  0.6],\n",
       "       [ 0.6,  1.2,  0. , -0.6,  0.6,  1.8]])"
      ]
     },
     "execution_count": 66,
     "metadata": {},
     "output_type": "execute_result"
    }
   ],
   "source": [
    "cov_x = (X@X.T)/(X.shape[0]-1)\n",
    "\n",
    "cov_x"
   ]
  },
  {
   "cell_type": "code",
   "execution_count": 67,
   "metadata": {},
   "outputs": [],
   "source": [
    "eig_vals, eig_vecs = np.linalg.eig(cov_x)"
   ]
  },
  {
   "cell_type": "code",
   "execution_count": 68,
   "metadata": {},
   "outputs": [
    {
     "data": {
      "text/plain": [
       "array([0.00000000e+00, 3.20000000e+00, 2.59372187e-16, 3.27793319e-35,\n",
       "       2.74923111e-32, 0.00000000e+00])"
      ]
     },
     "execution_count": 68,
     "metadata": {},
     "output_type": "execute_result"
    }
   ],
   "source": []
  },
  {
   "cell_type": "code",
   "execution_count": 59,
   "metadata": {},
   "outputs": [
    {
     "data": {
      "image/png": "[encoded data removed]",
      "text/plain": [
       "<Figure size 504x504 with 1 Axes>"
      ]
     },
     "metadata": {
      "needs_background": "light"
     },
     "output_type": "display_data"
    }
   ],
   "source": [
    "fig, ax = plt.subplots(1, figsize=(7,7))\n",
    "\n",
    "cols = ['#FF0000', '#00FF00', \"#000FFF\"]\n",
    "\n",
    "vplot2D(ax, eig_vecs, colours=cols, xlim=[-1,1], ylim=[-1,1])"
   ]
  },
  {
   "cell_type": "code",
   "execution_count": 26,
   "metadata": {},
   "outputs": [
    {
     "data": {
      "text/plain": [
       "(100, 2)"
      ]
     },
     "execution_count": 26,
     "metadata": {},
     "output_type": "execute_result"
    }
   ],
   "source": [
    "np.random.seed(123)\n",
    "x = 5*np.random.rand(100)\n",
    "y = 2*x + 1 + np.random.randn(100)\n",
    "\n",
    "x = x.reshape(100, 1)\n",
    "y = y.reshape(100, 1)\n",
    "\n",
    "X = np.hstack([x, y])\n",
    "X.shape"
   ]
  },
  {
   "cell_type": "code",
   "execution_count": 27,
   "metadata": {},
   "outputs": [
    {
     "data": {
      "image/png": "[encoded data removed]",
      "text/plain": [
       "<Figure size 432x288 with 1 Axes>"
      ]
     },
     "metadata": {
      "needs_background": "light"
     },
     "output_type": "display_data"
    }
   ],
   "source": [
    "plt.plot(X[:,0], X[:,1], '*')\n",
    "plt.show()"
   ]
  },
  {
   "cell_type": "code",
   "execution_count": 22,
   "metadata": {},
   "outputs": [],
   "source": [
    "def centerData(X):\n",
    "    X = X.copy()\n",
    "    X -= np.mean(X, axis = 0)\n",
    "    return X"
   ]
  },
  {
   "cell_type": "code",
   "execution_count": 23,
   "metadata": {},
   "outputs": [
    {
     "data": {
      "image/png": "[encoded data removed]",
      "text/plain": [
       "<Figure size 432x288 with 1 Axes>"
      ]
     },
     "metadata": {
      "needs_background": "light"
     },
     "output_type": "display_data"
    }
   ],
   "source": [
    "X_centered = centerData(X)\n",
    "plt.plot(X_centered[:,0], X_centered[:,1], '*')\n",
    "plt.show()"
   ]
  },
  {
   "cell_type": "code",
   "execution_count": 28,
   "metadata": {},
   "outputs": [
    {
     "data": {
      "text/plain": [
       "array([[-0.91116273, -0.41204669],\n",
       "       [ 0.41204669, -0.91116273]])"
      ]
     },
     "execution_count": 28,
     "metadata": {},
     "output_type": "execute_result"
    }
   ],
   "source": [
    "eigVals, eigVecs = np.linalg.eig(X_centered.T.dot(X_centered))\n",
    "eigVecs"
   ]
  },
  {
   "cell_type": "code",
   "execution_count": 29,
   "metadata": {},
   "outputs": [],
   "source": [
    "def plotVectors(vecs, cols, alpha=1):\n",
    "    \"\"\"\n",
    "    Plot set of vectors.\n",
    "\n",
    "    Parameters\n",
    "    ----------\n",
    "    vecs : array-like\n",
    "        Coordinates of the vectors to plot. Each vectors is in an array. For\n",
    "        instance: [[1, 3], [2, 2]] can be used to plot 2 vectors.\n",
    "    cols : array-like\n",
    "        Colors of the vectors. For instance: ['red', 'blue'] will display the\n",
    "        first vector in red and the second in blue.\n",
    "    alpha : float\n",
    "        Opacity of vectors\n",
    "\n",
    "    Returns:\n",
    "\n",
    "    fig : instance of matplotlib.figure.Figure\n",
    "        The figure of the vectors\n",
    "    \"\"\"\n",
    "    plt.figure()\n",
    "    plt.axvline(x=0, color='#A9A9A9', zorder=0)\n",
    "    plt.axhline(y=0, color='#A9A9A9', zorder=0)\n",
    "\n",
    "    for i in range(len(vecs)):\n",
    "        x = np.concatenate([[0,0],vecs[i]])\n",
    "        plt.quiver([x[0]],\n",
    "                   [x[1]],\n",
    "                   [x[2]],\n",
    "                   [x[3]],\n",
    "                   angles='xy', scale_units='xy', scale=1, color=cols[i],\n",
    "                   alpha=alpha)"
   ]
  },
  {
   "cell_type": "code",
   "execution_count": 30,
   "metadata": {},
   "outputs": [
    {
     "data": {
      "image/png": "[encoded data removed]",
      "text/plain": [
       "<Figure size 432x288 with 1 Axes>"
      ]
     },
     "metadata": {
      "needs_background": "light"
     },
     "output_type": "display_data"
    }
   ],
   "source": [
    "orange = '#FF9A13'\n",
    "blue = '#1190FF'\n",
    "plotVectors(eigVecs.T, [orange, blue])\n",
    "plt.plot(X_centered[:,0], X_centered[:,1], '*')\n",
    "plt.xlim(-3, 3)\n",
    "plt.ylim(-3, 3)\n",
    "plt.show()"
   ]
  },
  {
   "cell_type": "code",
   "execution_count": 31,
   "metadata": {},
   "outputs": [
    {
     "data": {
      "image/png": "[encoded data removed]",
      "text/plain": [
       "<Figure size 432x288 with 1 Axes>"
      ]
     },
     "metadata": {
      "needs_background": "light"
     },
     "output_type": "display_data"
    }
   ],
   "source": [
    "X_new = eigVecs.T.dot(X_centered.T)\n",
    "\n",
    "plt.plot(eigVecs.T.dot(X_centered.T)[0, :], eigVecs.T.dot(X_centered.T)[1, :], '*')\n",
    "plt.xlim(-5, 5)\n",
    "plt.ylim(-5, 5)\n",
    "plt.show()"
   ]
  },
  {
   "cell_type": "code",
   "execution_count": null,
   "metadata": {},
   "outputs": [],
   "source": []
  }
 ],
 "metadata": {
  "kernelspec": {
   "display_name": "Python 3",
   "language": "python",
   "name": "python3"
  },
  "language_info": {
   "codemirror_mode": {
    "name": "ipython",
    "version": 3
   },
   "file_extension": ".py",
   "mimetype": "text/x-python",
   "name": "python",
   "nbconvert_exporter": "python",
   "pygments_lexer": "ipython3",
   "version": "3.7.6"
  }
 },
 "nbformat": 4,
 "nbformat_minor": 2
}
