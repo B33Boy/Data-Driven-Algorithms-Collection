{
 "cells": [
  {
   "cell_type": "code",
   "execution_count": 1,
   "metadata": {},
   "outputs": [],
   "source": [
    "import numpy as np\n",
    "import pandas as pd\n"
   ]
  },
  {
   "cell_type": "markdown",
   "metadata": {},
   "source": [
    "### Principle Component Analysis (PCA) is a method of dimensionality reduction to minimize redundancy of an overdetermined system. \n",
    "\n",
    "### Suppose you have m number of data points x and y in a column vector:\n",
    "\n",
    "$X = \\begin{bmatrix}\n",
    "           X_{1} \\\\\n",
    "           Y_{1} \\\\\n",
    "           \\vdots \\\\\n",
    "           X_{m} \\\\\n",
    "           x_{m}\n",
    "\\end{bmatrix} $\n",
    "\n",
    "### We can use a covariance matrix as a metric."
   ]
  },
  {
   "cell_type": "code",
   "execution_count": null,
   "metadata": {},
   "outputs": [],
   "source": []
  }
 ],
 "metadata": {
  "kernelspec": {
   "display_name": "Python 3",
   "language": "python",
   "name": "python3"
  },
  "language_info": {
   "codemirror_mode": {
    "name": "ipython",
    "version": 3
   },
   "file_extension": ".py",
   "mimetype": "text/x-python",
   "name": "python",
   "nbconvert_exporter": "python",
   "pygments_lexer": "ipython3",
   "version": "3.7.6"
  }
 },
 "nbformat": 4,
 "nbformat_minor": 2
}
