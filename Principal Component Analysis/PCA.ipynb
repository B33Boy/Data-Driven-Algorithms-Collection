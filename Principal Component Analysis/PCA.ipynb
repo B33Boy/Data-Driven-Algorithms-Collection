{
 "cells": [
  {
   "cell_type": "code",
   "execution_count": 1,
   "metadata": {},
   "outputs": [],
   "source": [
    "import numpy as np\n",
    "import pandas as pd\n"
   ]
  },
  {
   "cell_type": "markdown",
   "metadata": {},
   "source": [
    "### Principle Component Analysis (PCA) is a method of dimensionality reduction to minimize redundancy of an overdetermined system. \n",
    "\n",
    "### Suppose you have m number of data points x and y in a column vector:\n",
    "\n",
    "$X = \\begin{bmatrix}\n",
    "           x_{1} \\\\\n",
    "           y_{1} \\\\\n",
    "           x_{2} \\\\\n",
    "           y_{2} \\\\\n",
    "           x_{3} \\\\\n",
    "           y_{3}\n",
    "\\end{bmatrix} $\n",
    "\n",
    "### We know that variance is a single-value measure of the spread of data. Covariance allows us to see how the directions of two vectors differ from each other. $C_{X}=\\dfrac{1}{n-1}XX^{T}$. Orthogonal vectors are indicated by a 0 covariance, which means that they are statistically independent. \n",
    "\n",
    "### Note the following: \n",
    "- The values along the main diagonal $C_{i,j}$ s.t. $i=j$ measure variance \n",
    "- Non-diagonals are symmetric $C_{i,j} = C_{j,i}$ and measure covariance\n",
    "- Smaller values indicate that vectors are more statistically independent\n",
    "- Higher values indicate that vectors are more statistically dependent, and thus redundant\n",
    "\n",
    "$$Cov(X) = \n",
    "\\begin{bmatrix}\n",
    "    \\sigma^{2}_{x_{1},x_{1}} & \\sigma^{2}_{x_{1},y_{1}} & \\sigma^{2}_{x_{1},x_{2}} & ... & \\sigma^{2}_{x_{1},y_{3}} \\\\\n",
    "    \\sigma^{2}_{y_{1},x_{1}} & \\sigma^{2}_{y_{1},y_{1}} & \\sigma^{2}_{y_{1},x_{2}} & ... & \\sigma^{2}_{y_{1},y_{3}} \\\\\n",
    "    \\sigma^{2}_{x_{2},x_{1}} & \\sigma^{2}_{x_{2},y_{1}} & \\sigma^{2}_{x_{2},x_{2}} & ... & \\sigma^{2}_{x_{2},y_{3}} \\\\\n",
    "    \\vdots                   & \\vdots                   & \\vdots                   & \\ddots & \\vdots \\\\\n",
    "    \\sigma^{2}_{y_{3},x_{1}} & \\sigma^{2}_{y_{3},y_{1}} & \\sigma^{2}_{y_{3},x_{2}} & ... & \\sigma^{2}_{y_{3},y_{3}} \\\\\n",
    "\\end{bmatrix}\n",
    "$$\n",
    "\n",
    "### Our goal is to diagonalize the covariance matrix to remove redundancies. We can do this with SVD, or Eigendecomposition."
   ]
  },
  {
   "cell_type": "code",
   "execution_count": 9,
   "metadata": {},
   "outputs": [
    {
     "data": {
      "text/plain": [
       "array([[ 1,  2,  0, -1,  1,  3],\n",
       "       [ 2,  4,  0, -2,  2,  6],\n",
       "       [ 0,  0,  0,  0,  0,  0],\n",
       "       [-1, -2,  0,  1, -1, -3],\n",
       "       [ 1,  2,  0, -1,  1,  3],\n",
       "       [ 3,  6,  0, -3,  3,  9]])"
      ]
     },
     "execution_count": 9,
     "metadata": {},
     "output_type": "execute_result"
    }
   ],
   "source": [
    "X = np.array([[1],[2],[0],[-1],[1],[3]])\n",
    "\n",
    "cov_x = X@X.T\n",
    "\n",
    "cov_x"
   ]
  },
  {
   "cell_type": "code",
   "execution_count": 10,
   "metadata": {},
   "outputs": [],
   "source": [
    "U,D,V = np.linalg.svd(cov_x) "
   ]
  },
  {
   "cell_type": "code",
   "execution_count": 13,
   "metadata": {},
   "outputs": [
    {
     "data": {
      "text/plain": [
       "array([[1.60000000e+01, 0.00000000e+00, 0.00000000e+00, 0.00000000e+00,\n",
       "        0.00000000e+00, 0.00000000e+00],\n",
       "       [0.00000000e+00, 1.72499419e-15, 0.00000000e+00, 0.00000000e+00,\n",
       "        0.00000000e+00, 0.00000000e+00],\n",
       "       [0.00000000e+00, 0.00000000e+00, 8.57460394e-17, 0.00000000e+00,\n",
       "        0.00000000e+00, 0.00000000e+00],\n",
       "       [0.00000000e+00, 0.00000000e+00, 0.00000000e+00, 8.62293005e-33,\n",
       "        0.00000000e+00, 0.00000000e+00],\n",
       "       [0.00000000e+00, 0.00000000e+00, 0.00000000e+00, 0.00000000e+00,\n",
       "        2.64099661e-47, 0.00000000e+00],\n",
       "       [0.00000000e+00, 0.00000000e+00, 0.00000000e+00, 0.00000000e+00,\n",
       "        0.00000000e+00, 6.02065218e-51]])"
      ]
     },
     "execution_count": 13,
     "metadata": {},
     "output_type": "execute_result"
    }
   ],
   "source": [
    "np.diag(D)"
   ]
  },
  {
   "cell_type": "code",
   "execution_count": null,
   "metadata": {},
   "outputs": [],
   "source": []
  }
 ],
 "metadata": {
  "kernelspec": {
   "display_name": "Python 3",
   "language": "python",
   "name": "python3"
  },
  "language_info": {
   "codemirror_mode": {
    "name": "ipython",
    "version": 3
   },
   "file_extension": ".py",
   "mimetype": "text/x-python",
   "name": "python",
   "nbconvert_exporter": "python",
   "pygments_lexer": "ipython3",
   "version": "3.7.6"
  }
 },
 "nbformat": 4,
 "nbformat_minor": 2
}
