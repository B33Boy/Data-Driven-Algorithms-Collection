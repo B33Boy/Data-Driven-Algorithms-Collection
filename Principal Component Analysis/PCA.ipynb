{
 "cells": [
  {
   "cell_type": "code",
   "execution_count": 1,
   "metadata": {},
   "outputs": [],
   "source": [
    "import numpy as np\n",
    "import pandas as pd\n"
   ]
  },
  {
   "cell_type": "markdown",
   "metadata": {},
   "source": [
    "### Principle Component Analysis (PCA) is a method of dimensionality reduction to minimize redundancy of an overdetermined system. \n",
    "\n",
    "### Suppose you have m number of data points x and y in a column vector:\n",
    "\n",
    "$X = \\begin{bmatrix}\n",
    "           x_{1} \\\\\n",
    "           y_{1} \\\\\n",
    "           x_{2} \\\\\n",
    "           y_{2} \\\\\n",
    "           x_{3} \\\\\n",
    "           y_{3}\n",
    "\\end{bmatrix} $\n",
    "\n",
    "### We know that variance is a single-value measure of the spread of data. Covariance allows us to see how the directions of two vectors differ from each other. $C_{X}=\\dfrac{1}{n-1}XX^{T}$. Orthogonal vectors are indicated by a 0 covariance, which means that they are statistically independent. \n",
    "\n",
    "### Note the following: \n",
    "- The values along the main diagonal $C_{i,j}$ s.t. $i=j$ measure variance \n",
    "- Non-diagonals are symmetric $C_{i,j} = C_{j,i}$ and measure covariance\n",
    "- Smaller values indicate that vectors are more statistically independent\n",
    "- Higher values indicate that vectors are more statistically dependent, and thus redundant\n",
    "\n",
    "$$Cov(X) = \n",
    "\\begin{bmatrix}\n",
    "    \\sigma^{2}_{x_{1},x_{1}} & \\sigma^{2}_{x_{1},y_{1}} & \\sigma^{2}_{x_{1},x_{2}} & ... & \\sigma^{2}_{x_{1},y_{3}} \\\\\n",
    "    \\sigma^{2}_{y_{1},x_{1}} & \\sigma^{2}_{y_{1},y_{1}} & \\sigma^{2}_{y_{1},x_{2}} & ... & \\sigma^{2}_{y_{1},y_{3}} \\\\\n",
    "    \\sigma^{2}_{x_{2},x_{1}} & \\sigma^{2}_{x_{2},y_{1}} & \\sigma^{2}_{x_{2},x_{2}} & ... & \\sigma^{2}_{x_{2},y_{3}} \\\\\n",
    "    \\vdots                   & \\vdots                   & \\vdots                   & \\ddots & \\vdots \\\\\n",
    "    \\sigma^{2}_{y_{3},x_{1}} & \\sigma^{2}_{y_{3},y_{1}} & \\sigma^{2}_{y_{3},x_{2}} & ... & \\sigma^{2}_{y_{3},y_{3}} \\\\\n",
    "\\end{bmatrix}\n",
    "$$\n",
    "\n",
    "  "
   ]
  },
  {
   "cell_type": "code",
   "execution_count": null,
   "metadata": {},
   "outputs": [],
   "source": []
  }
 ],
 "metadata": {
  "kernelspec": {
   "display_name": "Python 3",
   "language": "python",
   "name": "python3"
  },
  "language_info": {
   "codemirror_mode": {
    "name": "ipython",
    "version": 3
   },
   "file_extension": ".py",
   "mimetype": "text/x-python",
   "name": "python",
   "nbconvert_exporter": "python",
   "pygments_lexer": "ipython3",
   "version": "3.7.6"
  }
 },
 "nbformat": 4,
 "nbformat_minor": 2
}
