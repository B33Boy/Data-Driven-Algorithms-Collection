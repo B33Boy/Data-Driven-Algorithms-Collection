{
 "cells": [
  {
   "cell_type": "code",
   "execution_count": 1,
   "metadata": {},
   "outputs": [],
   "source": [
    "import numpy as np\n",
    "import scipy.linalg"
   ]
  },
  {
   "cell_type": "markdown",
   "metadata": {},
   "source": [
    "LU decomposition is a method that simplifies gaussian elimination for computers. This is because calculating the inverse of large matrices ($x = A^{-1}b$) requires immense computing power.\n",
    "\n",
    "We want to find lower and upper triangular matrices L and U respectfully such that $A=LU$"
   ]
  },
  {
   "cell_type": "code",
   "execution_count": 58,
   "metadata": {},
   "outputs": [
    {
     "data": {
      "text/plain": [
       "array([[ 4,  1,  2],\n",
       "       [ 4,  2, -1],\n",
       "       [-3, -3,  5]])"
      ]
     },
     "execution_count": 58,
     "metadata": {},
     "output_type": "execute_result"
    }
   ],
   "source": [
    "A = np.array([[4, 1, 2],\n",
    "              [4, 2, -1],\n",
    "              [-3, -3, 5]])\n",
    "A"
   ]
  },
  {
   "cell_type": "markdown",
   "metadata": {},
   "source": [
    "Partial pivoting will be used to reduce round-off errors. Partial pivoting is the process of swapping the rows to have the value with the largest magnitude (of the current column) at the top. "
   ]
  },
  {
   "cell_type": "code",
   "execution_count": 67,
   "metadata": {},
   "outputs": [
    {
     "name": "stdout",
     "output_type": "stream",
     "text": [
      "[[1. 0. 0.]\n",
      " [0. 1. 0.]\n",
      " [0. 0. 1.]] \n",
      "\n",
      "[[ 4  1  2]\n",
      " [ 0 -3  5]\n",
      " [ 0  0 -3]] \n",
      "\n",
      "[[1. 0. 0.]\n",
      " [0. 1. 0.]\n",
      " [0. 0. 1.]]\n"
     ]
    }
   ],
   "source": [
    "def LU(A):\n",
    "    n = A.shape[0]\n",
    "    \n",
    "    L = np.eye(n)\n",
    "    U = np.array(A, copy=True)\n",
    "    \n",
    "    P = np.eye(n)\n",
    "    \n",
    "    for b in range(n-1):\n",
    "        pivot(U, P, b)\n",
    "        \n",
    "        for i in range(b+1,n):    \n",
    "            U[i,b] = U[i,b]/U[b,b]      \n",
    "            \n",
    "            for j in range(b+1,n):      \n",
    "                U[i,j] -= U[i,b]*U[b,j] \n",
    "\n",
    "    return L, U, P\n",
    "\n",
    "            \n",
    "def pivot(A, P, n):\n",
    "    \n",
    "    # Find index of largest absolute valued element in the specified column \n",
    "    row_to_swap = np.argmax(np.abs(A[n:, n])) + n\n",
    "    \n",
    "    # Swap rows\n",
    "    A[[n, row_to_swap]] = A[[row_to_swap, n]]\n",
    "    P[[n, row_to_swap]] = P[[row_to_swap, n]]\n",
    "    \n",
    "    \n",
    "    \n",
    "# L, U = LU(A)\n",
    "L, U, P = LU(A)\n",
    "\n",
    "\n",
    "print(L, '\\n')\n",
    "print(U, '\\n')\n",
    "print(P)\n",
    "# print(L@U)"
   ]
  },
  {
   "cell_type": "markdown",
   "metadata": {},
   "source": [
    "Once we have matrices $L$ and $U$:\n",
    "\n",
    "<center>\n",
    "    We want to solve for $x$ in $$Ax=b$$\n",
    "    Let $A=LU$<br>\n",
    "    $LUx=b$<br>\n",
    "    Let $Ux=y$<br>\n",
    "    $Ly=b$<br>\n",
    "    Solve for $y$<br>\n",
    "    Substitute $y$ in $Ux=y$<br>\n",
    "    Solve for $x$<br>\n",
    "</center>\n",
    "\n"
   ]
  },
  {
   "cell_type": "code",
   "execution_count": 64,
   "metadata": {},
   "outputs": [
    {
     "name": "stdout",
     "output_type": "stream",
     "text": [
      "[[1.         0.         0.        ]\n",
      " [0.         1.         0.        ]\n",
      " [0.25       0.08333333 1.        ]] \n",
      "\n",
      "[[ 4.          1.          2.        ]\n",
      " [ 0.         -3.          5.        ]\n",
      " [ 0.          0.         -3.91666667]] \n",
      "\n",
      "[[1. 0. 0.]\n",
      " [0. 1. 0.]\n",
      " [0. 0. 1.]]\n"
     ]
    }
   ],
   "source": [
    "P, L, U = scipy.linalg.lu(A)\n",
    "print(L, '\\n')\n",
    "print(U, '\\n')\n",
    "print(P)"
   ]
  },
  {
   "cell_type": "code",
   "execution_count": 5,
   "metadata": {},
   "outputs": [
    {
     "name": "stdout",
     "output_type": "stream",
     "text": [
      "[[ 1.   0.   0. ]\n",
      " [-0.6  1.   0. ]\n",
      " [ 1.  -0.   1. ]] \n",
      "\n",
      "[[ 5.   2.  -1. ]\n",
      " [ 0.  -1.8  4.4]\n",
      " [ 0.   0.   0. ]]\n"
     ]
    }
   ],
   "source": [
    "print(L, '\\n')\n",
    "print(U)"
   ]
  },
  {
   "cell_type": "code",
   "execution_count": null,
   "metadata": {},
   "outputs": [],
   "source": []
  }
 ],
 "metadata": {
  "kernelspec": {
   "display_name": "Python 3",
   "language": "python",
   "name": "python3"
  },
  "language_info": {
   "codemirror_mode": {
    "name": "ipython",
    "version": 3
   },
   "file_extension": ".py",
   "mimetype": "text/x-python",
   "name": "python",
   "nbconvert_exporter": "python",
   "pygments_lexer": "ipython3",
   "version": "3.7.6"
  }
 },
 "nbformat": 4,
 "nbformat_minor": 2
}
