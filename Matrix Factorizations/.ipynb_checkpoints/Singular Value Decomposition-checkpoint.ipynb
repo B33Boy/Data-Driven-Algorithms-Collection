{
 "cells": [
  {
   "cell_type": "code",
   "execution_count": 1,
   "metadata": {},
   "outputs": [],
   "source": [
    "import numpy as np\n",
    "import matplotlib.pyplot as plt\n",
    "import urllib.request\n",
    "import matplotlib.image as mpimg"
   ]
  },
  {
   "cell_type": "code",
   "execution_count": 2,
   "metadata": {},
   "outputs": [
    {
     "data": {
      "image/png": "[encoded data removed]",
      "text/plain": [
       "<Figure size 720x720 with 2 Axes>"
      ]
     },
     "metadata": {
      "needs_background": "light"
     },
     "output_type": "display_data"
    }
   ],
   "source": [
    "def vplot2D(ax, v, colours, xlim=[-5,5], ylim=[-5,5]):\n",
    "    # append two columns of zeros to the left (represents origin)\n",
    "    vplot = np.vstack((np.zeros((2,v.shape[1])), v))\n",
    "    ax.quiver(vplot[0,:], vplot[1,:], vplot[2,:], vplot[3,:], angles='xy', scale_units='xy', scale=1, color=colours)\n",
    "    \n",
    "    # Set the limits so arrows are not out of view\n",
    "    ax.set_xlim(xlim)\n",
    "    ax.set_ylim(ylim)\n",
    "    \n",
    "    # Show the major grid lines with dark grey lines\n",
    "    ax.grid(b=True, which='major', color='#666666', linestyle='-')\n",
    "\n",
    "    # Show the minor grid lines with very faint and almost transparent grey lines\n",
    "    ax.minorticks_on()\n",
    "    ax.grid(b=True, which='minor', color='#999999', linestyle='-', alpha=0.2)\n",
    "    ax.set_aspect(1)\n",
    "\n",
    "# Testing the plotting function\n",
    "# Set 2x1 figure    \n",
    "fig, ax = plt.subplots(1,2, figsize=(10,10))\n",
    "\n",
    "v1 = np.array([[-3, 1, -2],\n",
    "               [2, 2, -2]])\n",
    "v2 = np.array([[1, 1], \n",
    "               [-1, 1]])\n",
    "cols = ['#FF0000', '#00FF00', \"#000FFF\"]\n",
    "\n",
    "vplot2D(ax[0], v1, colours=cols)\n",
    "vplot2D(ax[1], v2, colours=cols)"
   ]
  },
  {
   "cell_type": "markdown",
   "metadata": {},
   "source": [
    "## Singular Value Decomposition (SVD) is A = U$\\Sigma$V* where U and V* are unitary (i.e. conjugate transpose equals its inverse), and $\\Sigma$ is a diagonal matrix of singular values (i.e. eigenvalues square rooted($\\Sigma$ = $\\sqrt{λ}$))"
   ]
  },
  {
   "cell_type": "code",
   "execution_count": 70,
   "metadata": {},
   "outputs": [
    {
     "name": "stdout",
     "output_type": "stream",
     "text": [
      "[[1 3]\n",
      " [5 4]]\n",
      "[[10 17]\n",
      " [17 41]]\n",
      "[[26 23]\n",
      " [23 25]]\n"
     ]
    }
   ],
   "source": [
    "A = np.array([[1, 3], [5, 4]])\n",
    "print(A)\n",
    "print(A@A.T)\n",
    "print(A.T@A)"
   ]
  },
  {
   "cell_type": "code",
   "execution_count": 71,
   "metadata": {},
   "outputs": [
    {
     "name": "stdout",
     "output_type": "stream",
     "text": [
      "[48.50543414  2.49456586] \n",
      "\n",
      " [[-0.40388497 -0.91480978]\n",
      " [-0.91480978  0.40388497]]\n"
     ]
    }
   ],
   "source": [
    "eig_val, U = np.linalg.eig(A@A.T)\n",
    "\n",
    "# Sort eigenval & eigenvec in from largest to smallest\n",
    "idx = eig_val.argsort()[::-1]   \n",
    "eig_val = eig_val[idx]\n",
    "U = U[:,idx]\n",
    "\n",
    "print(eig_val, '\\n\\n',U)"
   ]
  },
  {
   "cell_type": "code",
   "execution_count": 72,
   "metadata": {},
   "outputs": [
    {
     "data": {
      "text/plain": [
       "array([[6.96458428, 0.        ],\n",
       "       [0.        , 1.57941947]])"
      ]
     },
     "execution_count": 72,
     "metadata": {},
     "output_type": "execute_result"
    }
   ],
   "source": [
    "Sigma = np.diag(np.sqrt(np.abs(eig_val)))\n",
    "# Sigma = np.diag(np.sqrt(eig_val.astype(np.complex)))\n",
    "Sigma"
   ]
  },
  {
   "cell_type": "code",
   "execution_count": 73,
   "metadata": {},
   "outputs": [
    {
     "name": "stdout",
     "output_type": "stream",
     "text": [
      "[48.50543414  2.49456586] \n",
      "\n",
      " [[-0.7147496   0.69938044]\n",
      " [-0.69938044 -0.7147496 ]]\n"
     ]
    }
   ],
   "source": [
    "eig_val, V = np.linalg.eig(A.T@A)\n",
    "\n",
    "# Sort eigenval & eigenvec in from largest to smallest\n",
    "idx = eig_val.argsort()[::-1]   \n",
    "eig_val = eig_val[idx]\n",
    "V = V[:,idx]\n",
    "\n",
    "# We reverse the signs in V because we calculated eigenvalues independently, so we don't get eigenv \n",
    "V = -1*V\n",
    "\n",
    "print(eig_val, '\\n\\n', V)"
   ]
  },
  {
   "cell_type": "code",
   "execution_count": 74,
   "metadata": {},
   "outputs": [
    {
     "data": {
      "text/plain": [
       "array([[1., 3.],\n",
       "       [5., 4.]])"
      ]
     },
     "execution_count": 74,
     "metadata": {},
     "output_type": "execute_result"
    }
   ],
   "source": [
    "U@Sigma@V.T"
   ]
  },
  {
   "cell_type": "code",
   "execution_count": 68,
   "metadata": {},
   "outputs": [
    {
     "name": "stdout",
     "output_type": "stream",
     "text": [
      "[[-0.40388497 -0.91480978]\n",
      " [-0.91480978  0.40388497]] \n",
      "\n",
      "[[6.96458428 0.        ]\n",
      " [0.         1.57941947]] \n",
      "\n",
      "[[-0.7147496  -0.69938044]\n",
      " [ 0.69938044 -0.7147496 ]] \n",
      "\n"
     ]
    },
    {
     "data": {
      "text/plain": [
       "array([[1., 3.],\n",
       "       [5., 4.]])"
      ]
     },
     "execution_count": 68,
     "metadata": {},
     "output_type": "execute_result"
    }
   ],
   "source": [
    "U, S, Vh = np.linalg.svd(A)\n",
    "S = np.diag(S)\n",
    "print(U, '\\n')\n",
    "print(S, '\\n')\n",
    "print(Vh, '\\n')\n",
    "U@S@Vh"
   ]
  },
  {
   "cell_type": "code",
   "execution_count": null,
   "metadata": {},
   "outputs": [],
   "source": []
  },
  {
   "cell_type": "code",
   "execution_count": null,
   "metadata": {},
   "outputs": [],
   "source": [
    "with urllib.request.urlopen('https://upload.wikimedia.org/wikipedia/commons/1/14/Athene_cuniculariaa.jpg') as url:\n",
    "#     s = url.read()\n",
    "    image = np.asarray(bytearray(url.read()), dtype=\"uint8\")\n",
    "    image = cv2.imdecode(image, cv2.IMREAD_COLOR)\n",
    "    plt.imshow(image)"
   ]
  },
  {
   "cell_type": "code",
   "execution_count": null,
   "metadata": {},
   "outputs": [],
   "source": []
  }
 ],
 "metadata": {
  "kernelspec": {
   "display_name": "Python 3",
   "language": "python",
   "name": "python3"
  },
  "language_info": {
   "codemirror_mode": {
    "name": "ipython",
    "version": 3
   },
   "file_extension": ".py",
   "mimetype": "text/x-python",
   "name": "python",
   "nbconvert_exporter": "python",
   "pygments_lexer": "ipython3",
   "version": "3.7.6"
  }
 },
 "nbformat": 4,
 "nbformat_minor": 2
}
