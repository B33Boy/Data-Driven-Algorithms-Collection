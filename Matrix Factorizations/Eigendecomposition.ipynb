{
 "cells": [
  {
   "cell_type": "code",
   "execution_count": 146,
   "metadata": {},
   "outputs": [],
   "source": [
    "import numpy as np\n",
    "import matplotlib.pyplot as plt\n",
    "# from scipy import linalg"
   ]
  },
  {
   "cell_type": "code",
   "execution_count": 207,
   "metadata": {},
   "outputs": [
    {
     "data": {
      "image/png": "[encoded data removed]",
      "text/plain": [
       "<Figure size 432x288 with 2 Axes>"
      ]
     },
     "metadata": {
      "needs_background": "light"
     },
     "output_type": "display_data"
    }
   ],
   "source": [
    "def vplot2D(ax, v, colours, xlim=[-5,5], ylim=[-5,5]):\n",
    "    # append two columns of zeros to the left (represents origin)\n",
    "    vplot = np.hstack((np.zeros((v.shape[0],2)), v))\n",
    "    ax.quiver(vplot[:,0], vplot[:,1], vplot[:,2], vplot[:,3], angles='xy', scale_units='xy', scale=1, color=colours)\n",
    "    \n",
    "    ax.set_xlim(xlim)\n",
    "    ax.set_ylim(ylim)\n",
    "    ax.grid()\n",
    "    ax.set_aspect(\"equal\")\n",
    "    \n",
    "fig, ax = plt.subplots(1,2)\n",
    "v1 = np.array([[-3, 2], [1, 5], [-2,-2]])\n",
    "v2 = np.array([[2, 2], [7, 1], [3,-2]])\n",
    "cols = ['#FF0000', '#00FF00', \"#000FFF\"]\n",
    "\n",
    "vplot2D(ax[0], v1, colours=cols, xlim=[-5, 10], ylim=[-5, 10])\n",
    "vplot2D(ax[1], v2, colours=cols, xlim=[-5, 10], ylim=[-5, 10])\n"
   ]
  },
  {
   "cell_type": "markdown",
   "metadata": {},
   "source": [
    "## Eigendecomposition of A = V diag($\\lambda$) V<sup>-1</sup>\n",
    "### Where V is an eigenvector matrix and diag($\\lambda$) is the diagonal matrix with eigenvalues"
   ]
  },
  {
   "cell_type": "code",
   "execution_count": 160,
   "metadata": {},
   "outputs": [
    {
     "data": {
      "text/plain": [
       "array([[1, 2],\n",
       "       [3, 5]])"
      ]
     },
     "execution_count": 160,
     "metadata": {},
     "output_type": "execute_result"
    }
   ],
   "source": [
    "A = np.array([[1, 2], [3, 5]])\n",
    "A"
   ]
  },
  {
   "cell_type": "code",
   "execution_count": 161,
   "metadata": {},
   "outputs": [],
   "source": [
    "eig_val, V = np.linalg.eig(A)\n",
    "lam = np.diag(eig_val)\n"
   ]
  },
  {
   "cell_type": "code",
   "execution_count": 248,
   "metadata": {},
   "outputs": [
    {
     "name": "stdout",
     "output_type": "stream",
     "text": [
      "[[-0.86460354 -0.36126098]\n",
      " [ 0.50245469 -0.93246475]] \n",
      "\n",
      "[[-0.16227766  0.        ]\n",
      " [ 0.          6.16227766]] \n",
      "\n",
      "[ 0.14030584 -0.08153717] \n",
      "\n",
      "[ 0.14030584 -0.08153717]\n"
     ]
    },
    {
     "data": {
      "image/png": "[encoded data removed]",
      "text/plain": [
       "<Figure size 432x288 with 2 Axes>"
      ]
     },
     "metadata": {
      "needs_background": "light"
     },
     "output_type": "display_data"
    }
   ],
   "source": [
    "print(V,'\\n')\n",
    "\n",
    "print(lam, '\\n')\n",
    "\n",
    "print(A@V[:,0], '\\n')\n",
    "\n",
    "print(lam[0,0] * V[:,0])\n",
    "\n",
    "#Lets plot eigenvectors\n",
    "fig, ax = plt.subplots(1,2)\n",
    "\n",
    "cols1 = ['#FF0000', '#FF0000']\n",
    "cols2 = ['#0000FF']\n",
    "\n",
    "\n",
    "# vplot2D(ax[0], , cols1)\n",
    "# vplot2D(ax[1], , cols2)"
   ]
  },
  {
   "cell_type": "code",
   "execution_count": 136,
   "metadata": {},
   "outputs": [
    {
     "data": {
      "text/plain": [
       "array([[-0.9440486 ,  0.36574887],\n",
       "       [-0.5086966 , -0.87534437]])"
      ]
     },
     "execution_count": 136,
     "metadata": {},
     "output_type": "execute_result"
    }
   ],
   "source": [
    "V_inv = np.linalg.inv(V)\n",
    "V_inv"
   ]
  },
  {
   "cell_type": "code",
   "execution_count": 137,
   "metadata": {},
   "outputs": [
    {
     "data": {
      "text/plain": [
       "array([[1., 2.],\n",
       "       [3., 5.]])"
      ]
     },
     "execution_count": 137,
     "metadata": {},
     "output_type": "execute_result"
    }
   ],
   "source": [
    "np.dot(V, lam).dot(V_inv)\n",
    "\n"
   ]
  },
  {
   "cell_type": "markdown",
   "metadata": {},
   "source": [
    "## Eigendecomposition of A = Q diag($\\Lambda$) Q<sup>T</sup>\n",
    "### Where Q is an orthogonal eigenvector matrix and diag($\\Lambda$) is the diagonal matrix with eigenvalues"
   ]
  },
  {
   "cell_type": "code",
   "execution_count": null,
   "metadata": {},
   "outputs": [],
   "source": []
  },
  {
   "cell_type": "code",
   "execution_count": null,
   "metadata": {},
   "outputs": [],
   "source": []
  }
 ],
 "metadata": {
  "kernelspec": {
   "display_name": "Python 3",
   "language": "python",
   "name": "python3"
  },
  "language_info": {
   "codemirror_mode": {
    "name": "ipython",
    "version": 3
   },
   "file_extension": ".py",
   "mimetype": "text/x-python",
   "name": "python",
   "nbconvert_exporter": "python",
   "pygments_lexer": "ipython3",
   "version": "3.7.6"
  }
 },
 "nbformat": 4,
 "nbformat_minor": 2
}
