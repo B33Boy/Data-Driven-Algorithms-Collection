{
 "cells": [
  {
   "cell_type": "code",
   "execution_count": 2,
   "metadata": {},
   "outputs": [],
   "source": [
    "import numpy as np\n",
    "import matplotlib.pyplot as plt"
   ]
  },
  {
   "cell_type": "markdown",
   "metadata": {},
   "source": [
    "## Plotting Vectors"
   ]
  },
  {
   "cell_type": "code",
   "execution_count": 229,
   "metadata": {},
   "outputs": [
    {
     "data": {
      "image/png": "[encoded data removed]",
      "text/plain": [
       "<Figure size 720x720 with 2 Axes>"
      ]
     },
     "metadata": {
      "needs_background": "light"
     },
     "output_type": "display_data"
    }
   ],
   "source": [
    "def vplot2D(ax, v, colours, xlim=[-5,5], ylim=[-5,5]):\n",
    "    # append two columns of zeros to the left (represents origin)\n",
    "    vplot = np.vstack((np.zeros((2,v.shape[1])), v))\n",
    "    ax.quiver(vplot[0,:], vplot[1,:], vplot[2,:], vplot[3,:], angles='xy', scale_units='xy', scale=1, color=colours)\n",
    "    \n",
    "    # Set the limits so arrows are not out of view\n",
    "    ax.set_xlim(xlim)\n",
    "    ax.set_ylim(ylim)\n",
    "    \n",
    "    # Show the major grid lines with dark grey lines\n",
    "    ax.grid(b=True, which='major', color='#666666', linestyle='-')\n",
    "\n",
    "    # Show the minor grid lines with very faint and almost transparent grey lines\n",
    "    ax.minorticks_on()\n",
    "    ax.grid(b=True, which='minor', color='#999999', linestyle='-', alpha=0.2)\n",
    "    ax.set_aspect(1)\n",
    "\n",
    "# Testing the plotting function\n",
    "# Set 2x1 figure    \n",
    "fig, ax = plt.subplots(1,2, figsize=(10,10))\n",
    "\n",
    "v1 = np.array([[-3, 1, -2],\n",
    "               [2, 2, -2]])\n",
    "v2 = np.array([[1, 1], \n",
    "               [-1, 1]])\n",
    "cols = ['#FF0000', '#00FF00', \"#000FFF\"]\n",
    "\n",
    "vplot2D(ax[0], v1, colours=cols)\n",
    "vplot2D(ax[1], v2, colours=cols)"
   ]
  },
  {
   "cell_type": "markdown",
   "metadata": {},
   "source": [
    "## Eigendecomposition of A = V diag($\\lambda$) V<sup>-1</sup>\n",
    "### Where V is an eigenvector matrix and diag($\\lambda$) is the diagonal matrix with eigenvalues"
   ]
  },
  {
   "cell_type": "code",
   "execution_count": 248,
   "metadata": {},
   "outputs": [
    {
     "name": "stdout",
     "output_type": "stream",
     "text": [
      "Original Array A= \n",
      " [[1 3]\n",
      " [4 1]]\n"
     ]
    }
   ],
   "source": [
    "A = np.array([[1, 3], [4, 1]])\n",
    "\n",
    "print('Original Array A=','\\n', A)"
   ]
  },
  {
   "cell_type": "code",
   "execution_count": 249,
   "metadata": {},
   "outputs": [
    {
     "name": "stdout",
     "output_type": "stream",
     "text": [
      "diag(λ) = \n",
      " [[ 4.46410162  0.        ]\n",
      " [ 0.         -2.46410162]] \n",
      "\n",
      "V = \n",
      " [[ 0.65465367 -0.65465367]\n",
      " [ 0.75592895  0.75592895]] \n",
      "\n",
      "V_inv = \n",
      " [[ 0.65465367 -0.65465367]\n",
      " [ 0.75592895  0.75592895]] \n",
      "\n",
      "V*diag(λ)*V_inv \n",
      " [[1. 3.]\n",
      " [4. 1.]]\n"
     ]
    }
   ],
   "source": [
    "# Calculate V & diag(λ)\n",
    "eig_val, V = np.linalg.eig(A)\n",
    "lam = np.diag(eig_val)\n",
    "\n",
    "print('diag(λ) =', '\\n', lam, '\\n')\n",
    "print('V =', '\\n', V, '\\n')\n",
    "\n",
    "# Calculate the inverse of V\n",
    "V_inv = np.linalg.inv(V)\n",
    "print('V_inv =', '\\n', V, '\\n')\n",
    "\n",
    "# Eigen decomposition should equal to A = [[1, 3], [4, 1]]\n",
    "print('V*diag(λ)*V_inv', '\\n',np.dot(V, lam).dot(V_inv))\n"
   ]
  },
  {
   "cell_type": "markdown",
   "metadata": {},
   "source": [
    "## Plotting"
   ]
  },
  {
   "cell_type": "code",
   "execution_count": 250,
   "metadata": {},
   "outputs": [
    {
     "name": "stdout",
     "output_type": "stream",
     "text": [
      "V_0 = [0.65465367 0.75592895] \n",
      "\n",
      "V_1 = [-0.65465367  0.75592895] \n",
      "\n",
      "λ = [ 4.46410162 -2.46410162] \n",
      "\n",
      "A*V_0 = [2.92244051 3.37454363] \n",
      "\n",
      "λ_0*V_0 = [2.92244051 3.37454363] \n",
      "\n",
      "A*V_1 = [ 1.61313317 -1.86268574] \n",
      "\n",
      "λ_1*V_1 = [ 1.61313317 -1.86268574] \n",
      "\n"
     ]
    }
   ],
   "source": [
    "# Two eigenvectors corresponding to lambdas\n",
    "print('V_0 =', V[:,0], '\\n')\n",
    "print('V_1 =', V[:,1], '\\n')\n",
    "print('λ =', eig_val, '\\n')\n",
    "\n",
    "# Verify first eigenvector\n",
    "print('A*V_0 =', A@V[:,0], '\\n')\n",
    "print('λ_0*V_0 =', eig_val[0]*V[:,0], '\\n')\n",
    "\n",
    "# Verify second eigenvector\n",
    "print('A*V_1 =', A@V[:,1], '\\n')\n",
    "print('λ_1*V_1 =', eig_val[1]*V[:,1], '\\n')"
   ]
  },
  {
   "cell_type": "code",
   "execution_count": 231,
   "metadata": {},
   "outputs": [
    {
     "data": {
      "image/png": "[encoded data removed]",
      "text/plain": [
       "<Figure size 720x720 with 3 Axes>"
      ]
     },
     "metadata": {
      "needs_background": "light"
     },
     "output_type": "display_data"
    }
   ],
   "source": [
    "# Check for lambda λ_1\n",
    "\n",
    "#Lets plot eigenvectors\n",
    "fig, ax = plt.subplots(1, 3, figsize=(10,10)) \n",
    "cols1 = ['#FF0000']\n",
    "cols2 = ['#0000FF']\n",
    "cols3 = ['#00FF00']\n",
    "\n",
    "ax[0].set_title('V')\n",
    "ax[1].set_title('A*V')\n",
    "ax[2].set_title('λ*V')\n",
    "\n",
    "# Plot \n",
    "vplot2D(ax[0], V[:,0].reshape(2,1), cols1, xlim=[-1,1], ylim=[-1,1])\n",
    "vplot2D(ax[1], (A@V[:,0]).reshape(2,1), cols2)\n",
    "vplot2D(ax[2], (lam[0,0]*V[:,0]).reshape(2,1), cols3)"
   ]
  },
  {
   "cell_type": "code",
   "execution_count": 233,
   "metadata": {},
   "outputs": [
    {
     "data": {
      "image/png": "[encoded data removed]",
      "text/plain": [
       "<Figure size 720x720 with 3 Axes>"
      ]
     },
     "metadata": {
      "needs_background": "light"
     },
     "output_type": "display_data"
    }
   ],
   "source": [
    "# Check for lambda λ_2\n",
    "\n",
    "#Lets plot eigenvectors\n",
    "fig, ax = plt.subplots(1, 3, figsize=(10,10)) \n",
    "cols1 = ['#FF0000']\n",
    "cols2 = ['#0000FF']\n",
    "cols3 = ['#00FF00']\n",
    "\n",
    "ax[0].set_title('V')\n",
    "ax[1].set_title('A*V')\n",
    "ax[2].set_title('λ*V')\n",
    "\n",
    "# Plot \n",
    "vplot2D(ax[0], V[:,1].reshape(2,1), cols1, xlim=[-1,1], ylim=[-1,1])\n",
    "vplot2D(ax[1], (A@V[:,1]).reshape(2,1), cols2)\n",
    "vplot2D(ax[2], (lam[1,1]*V[:,1]).reshape(2,1), cols3)\n"
   ]
  },
  {
   "cell_type": "markdown",
   "metadata": {},
   "source": [
    "## Eigendecomposition of A = Q diag($\\Lambda$) Q<sup>T</sup>\n",
    "### Where Q is an orthogonal eigenvector matrix and diag($\\Lambda$) is the diagonal matrix with eigenvalues"
   ]
  },
  {
   "cell_type": "code",
   "execution_count": null,
   "metadata": {},
   "outputs": [],
   "source": []
  },
  {
   "cell_type": "code",
   "execution_count": null,
   "metadata": {},
   "outputs": [],
   "source": [
    "# Calculate Q & diag(Λ)\n",
    "eig_val, V = np.linalg.eig(A)\n",
    "lam = np.diag(eig_val)\n",
    "\n",
    "print('diag(λ) =', '\\n', lam, '\\n')\n",
    "print('V =', '\\n', V, '\\n')\n",
    "\n",
    "# Calculate the inverse of V\n",
    "V_inv = np.linalg.inv(V)\n",
    "print('V_inv =', '\\n', V, '\\n')\n",
    "\n",
    "# Eigen decomposition should equal to A = [[1, 3], [4, 1]]\n",
    "print('V*diag(λ)*V_inv', '\\n',np.dot(V, lam).dot(V_inv))\n"
   ]
  }
 ],
 "metadata": {
  "kernelspec": {
   "display_name": "Python 3",
   "language": "python",
   "name": "python3"
  },
  "language_info": {
   "codemirror_mode": {
    "name": "ipython",
    "version": 3
   },
   "file_extension": ".py",
   "mimetype": "text/x-python",
   "name": "python",
   "nbconvert_exporter": "python",
   "pygments_lexer": "ipython3",
   "version": "3.7.6"
  }
 },
 "nbformat": 4,
 "nbformat_minor": 2
}
