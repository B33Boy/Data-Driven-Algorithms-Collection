{
 "cells": [
  {
   "cell_type": "code",
   "execution_count": 1,
   "metadata": {},
   "outputs": [],
   "source": [
    "import pandas\n",
    "import numpy as np\n",
    "import random\n",
    "import matplotlib.pyplot as plt"
   ]
  },
  {
   "cell_type": "code",
   "execution_count": 2,
   "metadata": {},
   "outputs": [],
   "source": [
    "points = np.genfromtxt('gen_cluster.txt', delimiter = ' ')\n",
    "m, n = points.shape\n",
    "\n",
    "x = np.array(points[:, :-1]) \n",
    "y = np.array(points[:, -1:]) # We do -1: to make sure the shape of y is (m,1) instead of (m,)"
   ]
  },
  {
   "cell_type": "code",
   "execution_count": 3,
   "metadata": {},
   "outputs": [],
   "source": [
    "def init_clusters(num_of_clusters):\n",
    "    return np.random.uniform(0,20, size=(num_of_clusters,2))\n",
    "\n",
    "# Test init_clusters\n",
    "clusters = init_clusters(4)\n",
    "c_x, c_y = clusters[:,0], clusters[:,1]\n"
   ]
  },
  {
   "cell_type": "code",
   "execution_count": 4,
   "metadata": {},
   "outputs": [
    {
     "data": {
      "image/png": "[encoded data removed]",
      "text/plain": [
       "<Figure size 432x288 with 1 Axes>"
      ]
     },
     "metadata": {
      "needs_background": "light"
     },
     "output_type": "display_data"
    }
   ],
   "source": [
    "plt.scatter(x, y, marker = 'o', label='points')\n",
    "plt.scatter(c_x, c_y, marker = 'o', label='medians')\n",
    "plt.show()"
   ]
  },
  {
   "cell_type": "code",
   "execution_count": 8,
   "metadata": {},
   "outputs": [],
   "source": [
    "def calculate_distances(clusters, points):\n",
    "    distances = np.zeros((points.shape[0], clusters.shape[0]))\n",
    "    \n",
    "    for c in range(clusters.shape[0]):\n",
    "        for p in range(points.shape[0]):\n",
    "            distances[p,c] = np.sqrt((clusters[c,0] - points[p,0])**2 + (clusters[c,1] - points[p,1])**2)\n",
    "\n",
    "    return distances\n",
    "    \n",
    "dist = calculate_distances(clusters, points)"
   ]
  },
  {
   "cell_type": "code",
   "execution_count": 10,
   "metadata": {},
   "outputs": [
    {
     "name": "stdout",
     "output_type": "stream",
     "text": [
      "(99,)\n"
     ]
    }
   ],
   "source": [
    "def assign_closest(distances):\n",
    "    return np.argmin(distances, axis=1)\n",
    "\n",
    "\n",
    "closest_clusters = assign_closest(dist)"
   ]
  },
  {
   "cell_type": "code",
   "execution_count": null,
   "metadata": {},
   "outputs": [],
   "source": []
  }
 ],
 "metadata": {
  "kernelspec": {
   "display_name": "Python 3",
   "language": "python",
   "name": "python3"
  },
  "language_info": {
   "codemirror_mode": {
    "name": "ipython",
    "version": 3
   },
   "file_extension": ".py",
   "mimetype": "text/x-python",
   "name": "python",
   "nbconvert_exporter": "python",
   "pygments_lexer": "ipython3",
   "version": "3.7.3"
  }
 },
 "nbformat": 4,
 "nbformat_minor": 2
}
