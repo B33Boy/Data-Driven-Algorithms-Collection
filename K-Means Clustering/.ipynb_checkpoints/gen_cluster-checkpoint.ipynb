{
 "cells": [
  {
   "cell_type": "code",
   "execution_count": 61,
   "metadata": {},
   "outputs": [],
   "source": [
    "import random\n",
    "import numpy as np"
   ]
  },
  {
   "cell_type": "markdown",
   "metadata": {},
   "source": [
    "\n",
    "## Gaussian Distribution \n",
    "\\begin{align}\n",
    "\\ Gaussian = \\frac{1}{\\sigma \\sqrt 2\\pi } e^{-\\frac{(x-\\mu)^2}{2 \\sigma^2}}  \\\\\n",
    "\\end{align}"
   ]
  },
  {
   "cell_type": "code",
   "execution_count": 62,
   "metadata": {},
   "outputs": [],
   "source": [
    "# Returns y given x, mu, sigma\n",
    "def gaussian(x, mu=1, sigma=0.3):\n",
    "    return np.exp(-((x - mu) ** 2)/(2*sigma**2)) / (sigma * np.sqrt(2*np.pi))\n"
   ]
  },
  {
   "cell_type": "code",
   "execution_count": 68,
   "metadata": {},
   "outputs": [
    {
     "data": {
      "text/plain": [
       "array([7.97884561e-01, 1.07981933e-01, 2.67660452e-04])"
      ]
     },
     "execution_count": 68,
     "metadata": {},
     "output_type": "execute_result"
    }
   ],
   "source": [
    "x = np.array(([1,2,3]))\n",
    "\n",
    "gaussian((x), 1, 0.5)"
   ]
  },
  {
   "cell_type": "code",
   "execution_count": 4,
   "metadata": {},
   "outputs": [
    {
     "ename": "SyntaxError",
     "evalue": "unexpected EOF while parsing (<ipython-input-4-36f16e2fdd79>, line 1)",
     "output_type": "error",
     "traceback": [
      "\u001b[1;36m  File \u001b[1;32m\"<ipython-input-4-36f16e2fdd79>\"\u001b[1;36m, line \u001b[1;32m1\u001b[0m\n\u001b[1;33m    def gen(num_points, num_clusters, xmin, xmax, ymin, ymax):\u001b[0m\n\u001b[1;37m                                                              ^\u001b[0m\n\u001b[1;31mSyntaxError\u001b[0m\u001b[1;31m:\u001b[0m unexpected EOF while parsing\n"
     ]
    }
   ],
   "source": [
    "def gen(file, num_points, cluster_centre, std_dev):\n",
    "    \n",
    "    for i in range(num_clusters):\n",
    "        np.random.randint(1,5, size=10)\n",
    "    \n",
    "    file.write(f\"{x},{y}\")"
   ]
  },
  {
   "cell_type": "code",
   "execution_count": 9,
   "metadata": {},
   "outputs": [],
   "source": [
    "with open('gen_cluster.txt', 'w') as out_file:\n",
    "    gen(out_file, 20, 4)"
   ]
  },
  {
   "cell_type": "code",
   "execution_count": 67,
   "metadata": {},
   "outputs": [
    {
     "data": {
      "text/plain": [
       "array([4, 1, 4, 1, 2, 4, 2, 3, 4, 1])"
      ]
     },
     "execution_count": 67,
     "metadata": {},
     "output_type": "execute_result"
    }
   ],
   "source": []
  },
  {
   "cell_type": "code",
   "execution_count": null,
   "metadata": {},
   "outputs": [],
   "source": []
  }
 ],
 "metadata": {
  "kernelspec": {
   "display_name": "Python 3",
   "language": "python",
   "name": "python3"
  },
  "language_info": {
   "codemirror_mode": {
    "name": "ipython",
    "version": 3
   },
   "file_extension": ".py",
   "mimetype": "text/x-python",
   "name": "python",
   "nbconvert_exporter": "python",
   "pygments_lexer": "ipython3",
   "version": "3.7.3"
  }
 },
 "nbformat": 4,
 "nbformat_minor": 2
}
