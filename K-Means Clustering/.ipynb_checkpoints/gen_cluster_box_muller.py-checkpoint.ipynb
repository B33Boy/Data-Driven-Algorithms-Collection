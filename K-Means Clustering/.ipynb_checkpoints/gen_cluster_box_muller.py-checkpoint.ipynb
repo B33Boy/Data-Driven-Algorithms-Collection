{
 "cells": [
  {
   "cell_type": "code",
   "execution_count": 1,
   "metadata": {},
   "outputs": [],
   "source": [
    "import numpy as np\n",
    "import matplotlib.pyplot as plt"
   ]
  },
  {
   "cell_type": "markdown",
   "metadata": {},
   "source": [
    "## Gaussian Distribution (AKA Normal Distribution)\n",
    "\n",
    "Our goal is to generate normally distributed numbers to form a cluster of points. This means that the x and y values of a point are each normally distributed. We can do this with the Box-Muller Transform.\n",
    "\n",
    "\\begin{align}\n",
    "\\ Gaussian = \\frac{1}{\\sigma \\sqrt{ 2\\pi} } e^{-\\frac{(x-\\mu)^2}{2 \\sigma^2}}  \\\\\n",
    "\\end{align}\n",
    "\n"
   ]
  },
  {
   "cell_type": "code",
   "execution_count": 2,
   "metadata": {},
   "outputs": [],
   "source": [
    "# Returns y given x, mu, sigma\n",
    "def gaussian(x, mu=1, sigma=0.3):\n",
    "    return np.exp(-((x - mu) ** 2)/(2*sigma**2)) / (sigma * np.sqrt(2*np.pi))"
   ]
  },
  {
   "cell_type": "markdown",
   "metadata": {},
   "source": [
    "## The Box-Muller Transform \n",
    "The Box-Muller Transform will generate points around (0,0) that will be distributed normally on both the x, and y axis.\n",
    "See [here](https://www.alanzucconi.com/2015/09/16/how-to-sample-from-a-gaussian-distribution/) for an in-depth explanation.\n",
    "\n",
    "1. Generate two values from uniform distribution\n",
    "\\begin{align}\n",
    "U1 = Unif(0, 1) U2 = Unif(0, 1) \n",
    "\\end{align}\n",
    "2. Apply the transform \n",
    "\\begin{align}\n",
    "\\ z0 = \\sqrt{-2 \\log U1}cos(2 \\pi U2)\n",
    "\\; z1 = \\sqrt{-2 \\log U1}sin(2 \\pi U2)\n",
    "\\end{align}\n",
    "\n"
   ]
  },
  {
   "cell_type": "code",
   "execution_count": 3,
   "metadata": {},
   "outputs": [
    {
     "data": {
      "image/png": "[encoded data removed]",
      "text/plain": [
       "<Figure size 432x288 with 1 Axes>"
      ]
     },
     "metadata": {
      "needs_background": "light"
     },
     "output_type": "display_data"
    }
   ],
   "source": [
    "def gen_box_muller(x, y, num_points, max_dist):    \n",
    "    U1 = np.random.uniform(0, 1, num_points)\n",
    "    U2 = np.random.uniform(0, 1, num_points)\n",
    "\n",
    "    z0 = np.sqrt(-2 * np.log(U1)) * np.cos(2 * np.pi * U2).astype(float) + x\n",
    "    z1 = np.sqrt(-2 * np.log(U1)) * np.sin(2 * np.pi * U2).astype(float) + y\n",
    "    points = np.stack((z0, z1), axis = 1)\n",
    "    \n",
    "    points_filtered = points[np.where(np.sqrt((x-z0)**2 + (y-z1)**2) <= max_dist)]\n",
    "    \n",
    "    return points_filtered\n",
    "\n",
    "points = gen_box_muller(0,0, 50, 1)\n",
    "\n",
    "z0 = points[:,0]\n",
    "z1 = points[:,1]\n",
    "\n",
    "plt.scatter(z0, z1, marker = 'x')\n",
    "\n",
    "plt.show()"
   ]
  },
  {
   "cell_type": "code",
   "execution_count": 4,
   "metadata": {},
   "outputs": [],
   "source": [
    "def gen(file, num_clusters, points_min=25, points_max=50, x_min=0, x_max=20, y_min=0, y_max=20, max_dist=1.5):    \n",
    "    for i in range(num_clusters):\n",
    "        centre_x = np.random.randint(x_min, x_max, size=1)\n",
    "        centre_y = np.random.randint(y_min, y_max, size=1)\n",
    "        num_points = np.random.randint(points_min, points_max, size=1)\n",
    "        \n",
    "        points = gen_box_muller(centre_x, centre_y, num_points, max_dist)\n",
    "#         file.write(f\"{z0} {z1}\")\n",
    "        np.savetxt(file, points)\n",
    "    \n",
    "        z0 = points[:,0]\n",
    "        z1 = points[:,1]\n",
    "        plt.scatter(z0, z1, marker = 'x')\n",
    "    plt.show()"
   ]
  },
  {
   "cell_type": "code",
   "execution_count": 5,
   "metadata": {},
   "outputs": [
    {
     "data": {
      "image/png": "[encoded data removed]",
      "text/plain": [
       "<Figure size 432x288 with 1 Axes>"
      ]
     },
     "metadata": {
      "needs_background": "light"
     },
     "output_type": "display_data"
    }
   ],
   "source": [
    "with open('gen_cluster.txt', 'a+') as out_file:\n",
    "    gen(out_file, num_clusters=4)"
   ]
  },
  {
   "cell_type": "code",
   "execution_count": null,
   "metadata": {},
   "outputs": [],
   "source": []
  }
 ],
 "metadata": {
  "kernelspec": {
   "display_name": "Python 3",
   "language": "python",
   "name": "python3"
  },
  "language_info": {
   "codemirror_mode": {
    "name": "ipython",
    "version": 3
   },
   "file_extension": ".py",
   "mimetype": "text/x-python",
   "name": "python",
   "nbconvert_exporter": "python",
   "pygments_lexer": "ipython3",
   "version": "3.7.3"
  }
 },
 "nbformat": 4,
 "nbformat_minor": 2
}
