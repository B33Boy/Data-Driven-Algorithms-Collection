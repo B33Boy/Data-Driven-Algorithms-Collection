{
 "cells": [
  {
   "cell_type": "markdown",
   "metadata": {},
   "source": [
    "# Logistic Regression"
   ]
  },
  {
   "cell_type": "code",
   "execution_count": 1,
   "metadata": {},
   "outputs": [],
   "source": [
    "import numpy as np\n",
    "import matplotlib.pyplot as plt"
   ]
  },
  {
   "cell_type": "code",
   "execution_count": 2,
   "metadata": {},
   "outputs": [],
   "source": [
    "#Parse data, define m and n values\n",
    "\n",
    "points = np.genfromtxt('ex2data1.txt', delimiter = ',')\n",
    "m, n = points.shape\n",
    "\n",
    "x = np.array(points[:, :-1])\n",
    "y = np.array(points[:, -1:])"
   ]
  },
  {
   "cell_type": "code",
   "execution_count": null,
   "metadata": {},
   "outputs": [],
   "source": [
    "pos = np.where(y == 1)\n",
    "neg = np.where(y == 0)\n",
    "plt.scatter(x[pos, 0], x[pos, 1], marker='o', c='b')\n",
    "plt.scatter(x[neg, 0], x[neg, 1], marker='x', c='r')\n",
    "plt.xlabel('Exam 1 score')\n",
    "plt.ylabel('Exam 2 score')\n",
    "plt.legend(['y = 1', 'y = 0'])\n",
    "\n",
    "plt.show()"
   ]
  },
  {
   "cell_type": "code",
   "execution_count": 3,
   "metadata": {},
   "outputs": [],
   "source": [
    "def featureNormalize(X):\n",
    "    mu = np.mean(X)\n",
    "    sigma = np.std(X)\n",
    "    X_norm = (X - mu)/sigma\n",
    "    return X_norm , mu , sigma\n",
    "\n",
    "x, mean, std = featureNormalize(x)"
   ]
  },
  {
   "cell_type": "code",
   "execution_count": 4,
   "metadata": {},
   "outputs": [],
   "source": [
    "# Add a column of ones to x, we will call this X\n",
    "ones = np.ones((m,1))\n",
    "X = np.hstack((ones, x))\n",
    "\n",
    "theta = np.zeros((n, 1))"
   ]
  },
  {
   "cell_type": "code",
   "execution_count": null,
   "metadata": {},
   "outputs": [],
   "source": [
    "#Hyperparameters\n",
    "iterations = 1000\n",
    "alpha = 0.05"
   ]
  },
  {
   "cell_type": "code",
   "execution_count": null,
   "metadata": {},
   "outputs": [],
   "source": [
    "def sigmoid(z):\n",
    "    return 1/(1+np.exp(-z))\n"
   ]
  },
  {
   "cell_type": "code",
   "execution_count": null,
   "metadata": {},
   "outputs": [],
   "source": [
    "def gradient(x, y, theta):\n",
    "    m = x.shape[0]\n",
    "    h = sigmoid(x.dot(theta))\n",
    "    grad = ((x.T).dot(h-y))/m\n",
    "    return grad"
   ]
  },
  {
   "cell_type": "code",
   "execution_count": null,
   "metadata": {},
   "outputs": [],
   "source": [
    "def cost(x, y, theta):\n",
    "    m = x.shape[0]\n",
    "    h = sigmoid(x.dot(theta))\n",
    "    \n",
    "    J = ((np.dot(-y.T, np.log(h)) - np.dot((1-y).T, np.log(1-h))) /m).flatten()\n",
    "    # Calling the gradient within the cost function makes it easier for gradient descent to run\n",
    "    grad = gradient(x, y, theta)\n",
    "    \n",
    "    return J, grad"
   ]
  },
  {
   "cell_type": "code",
   "execution_count": null,
   "metadata": {},
   "outputs": [],
   "source": [
    "init_J, init_grad = cost(X, y, theta)\n",
    "print(\"Init cost\", init_J)\n",
    "print(\"Init gradient\")\n",
    "print(init_grad)"
   ]
  },
  {
   "cell_type": "code",
   "execution_count": null,
   "metadata": {},
   "outputs": [],
   "source": [
    "def gradient_descent(X,y, theta, alpha, iterations):\n",
    "    J_hist = []\n",
    "    for i in range(iterations):\n",
    "        J, grad = cost(X, y, theta)\n",
    "        theta = theta - (alpha * grad)\n",
    "        J_hist.append(J)\n",
    "    return theta, J_hist\n",
    "\n",
    "theta, J_hist = gradient_descent(X,y, theta,alpha, iterations)"
   ]
  },
  {
   "cell_type": "code",
   "execution_count": null,
   "metadata": {},
   "outputs": [],
   "source": [
    "def predict(x, theta):\n",
    "    m, _ = x.shape\n",
    "    p = np.zeros((m,1))\n",
    "    h = sigmoid(np.dot(x,theta))\n",
    "    for i in range(0, h.shape[0]):\n",
    "        if h[i] >= 0.5:\n",
    "            p[i, 0] = 1\n",
    "        else:\n",
    "            p[i, 0] = 0\n",
    "    return p\n",
    "\n",
    "pred = predict(X, theta)\n",
    "print ('Train Accuracy: %f' % ((y[np.where(pred == y)].size / y.size) * 100))"
   ]
  },
  {
   "cell_type": "code",
   "execution_count": null,
   "metadata": {},
   "outputs": [],
   "source": [
    "# Rescale the variables for plotting\n",
    "# x = x * std + mean\n",
    "\n",
    "pos = np.where(y == 1)\n",
    "neg = np.where(y == 0)\n",
    "\n",
    "plt.scatter(x[pos, 0], x[pos, 1], marker='o', c='b')\n",
    "plt.scatter(x[neg, 0], x[neg, 1], marker='x', c='r')\n",
    "\n",
    "# Get the max and min x value\n",
    "x_plt = np.array((np.min(x[:,0]),np.max(x[:,0])))\n",
    "\n",
    "# y_plt = (theta[0] + theta[1]*x_plt)/(-theta[2])\n",
    "\n",
    "plt.plot(x_plt, y_plt)\n",
    "\n",
    "plt.xlabel('Exam 1 score')\n",
    "plt.ylabel('Exam 2 score')\n",
    "plt.legend(['y = 1', 'y = 0'])\n",
    "\n",
    "plt.show()"
   ]
  },
  {
   "cell_type": "code",
   "execution_count": null,
   "metadata": {},
   "outputs": [],
   "source": [
    "# Plotting Cost over the Number of Iterations\n",
    "cost_x = np.arange(iterations)\n",
    "cost_y = J_hist\n",
    "\n",
    "#Plot both the data points as well as the line of best fit\n",
    "plt.plot(cost_x, cost_y)\n",
    "plt.xlabel(\"Number of Iterations\")\n",
    "plt.ylabel(\"Cost\")\n",
    "plt.show() "
   ]
  },
  {
   "cell_type": "code",
   "execution_count": null,
   "metadata": {},
   "outputs": [],
   "source": [
    "print(\"Theta final: \")\n",
    "print(theta)\n"
   ]
  },
  {
   "cell_type": "code",
   "execution_count": null,
   "metadata": {},
   "outputs": [],
   "source": [
    "print(\"Final cost\", J_hist[-1])"
   ]
  }
 ],
 "metadata": {
  "kernelspec": {
   "display_name": "Python 3",
   "language": "python",
   "name": "python3"
  },
  "language_info": {
   "codemirror_mode": {
    "name": "ipython",
    "version": 3
   },
   "file_extension": ".py",
   "mimetype": "text/x-python",
   "name": "python",
   "nbconvert_exporter": "python",
   "pygments_lexer": "ipython3",
   "version": "3.5.2"
  }
 },
 "nbformat": 4,
 "nbformat_minor": 2
}
