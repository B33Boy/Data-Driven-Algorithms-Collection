{
 "cells": [
  {
   "cell_type": "code",
   "execution_count": 1,
   "metadata": {},
   "outputs": [],
   "source": [
    "import numpy as np\n",
    "import matplotlib.pyplot as plt"
   ]
  },
  {
   "cell_type": "code",
   "execution_count": 2,
   "metadata": {},
   "outputs": [],
   "source": [
    "#Parse data, define m and n values\n",
    "\n",
    "points = np.genfromtxt('ex2data2.txt', delimiter = ',')\n",
    "m, n = points.shape\n",
    "\n",
    "x = np.array(points[:, :-1])\n",
    "y = np.array(points[:, -1:])"
   ]
  },
  {
   "cell_type": "code",
   "execution_count": 3,
   "metadata": {},
   "outputs": [
    {
     "data": {
      "image/png": "[encoded data removed]",
      "text/plain": [
       "<Figure size 432x288 with 1 Axes>"
      ]
     },
     "metadata": {
      "needs_background": "light"
     },
     "output_type": "display_data"
    }
   ],
   "source": [
    "pos = np.where(y == 1)\n",
    "neg = np.where(y == 0)\n",
    "plt.scatter(x[pos, 0], x[pos, 1], marker='o', c='b')\n",
    "plt.scatter(x[neg, 0], x[neg, 1], marker='x', c='r')\n",
    "plt.xlabel('Exam 1 score')\n",
    "plt.ylabel('Exam 2 score')\n",
    "plt.legend(['y = 1', 'y = 0'])\n",
    "\n",
    "plt.show()"
   ]
  },
  {
   "cell_type": "code",
   "execution_count": 4,
   "metadata": {},
   "outputs": [],
   "source": [
    "# def featureNormalize(X):\n",
    "#     mu = np.mean(X)\n",
    "#     sigma = np.std(X)\n",
    "#     X_norm = (X - mu)/sigma\n",
    "#     return X_norm , mu , sigma\n",
    "\n",
    "# x, mean, std = featureNormalize(x)"
   ]
  },
  {
   "cell_type": "code",
   "execution_count": 5,
   "metadata": {},
   "outputs": [],
   "source": [
    "def mapfeature(X1, X2):\n",
    "    m = X1.shape[0]\n",
    "    X_new = np.ones((m,1))\n",
    "    degree = 6\n",
    "    for i in range(1,degree+1):\n",
    "        for j in range(0,i+1):\n",
    "            X_new = np.hstack((X_new, np.multiply(np.power(X1, i-j), np.power(X2,j)).reshape((m,1))))\n",
    "    return X_new\n",
    "\n",
    "X = mapfeature(x[:,0], x[:,1])\n"
   ]
  },
  {
   "cell_type": "code",
   "execution_count": 6,
   "metadata": {},
   "outputs": [],
   "source": [
    "theta = np.zeros((X.shape[1],1))\n",
    "\n",
    "#Hyperparameters\n",
    "iterations = 800\n",
    "alpha = 0.2\n",
    "lam = 2"
   ]
  },
  {
   "cell_type": "code",
   "execution_count": 7,
   "metadata": {},
   "outputs": [],
   "source": [
    "def sigmoid(z):\n",
    "    return 1/(1+np.exp(-z))\n"
   ]
  },
  {
   "cell_type": "code",
   "execution_count": 8,
   "metadata": {},
   "outputs": [],
   "source": [
    "def gradient(x, y, theta, lam):\n",
    "    m = x.shape[0]\n",
    "    h = sigmoid(x.dot(theta))\n",
    "    # (X' * (sigmoid(X*theta) - y))./m + [0; theta(2:m_theta).*(lambda/m)];\n",
    "    reg = np.vstack((0, theta[1:theta.shape[0]] * lam/m))\n",
    "    grad = ((x.T).dot(h-y))/m + reg\n",
    "    return grad"
   ]
  },
  {
   "cell_type": "code",
   "execution_count": 9,
   "metadata": {},
   "outputs": [],
   "source": [
    "def cost(x, y, theta, lam):\n",
    "    m = x.shape[0]\n",
    "    h = sigmoid(x.dot(theta))\n",
    "    \n",
    "#J = (-y' * log(sigmoid(X*theta)) - (1 - y)' * log(1 - sigmoid(X*theta)))./m + [theta(2:m_theta)' * theta(2:m_theta)] .* (lambda/(2*m));\n",
    "    reg = np.dot(theta.T,theta) * lam /(2*m)\n",
    "    J = ((np.dot(-y.T, np.log(h)) - np.dot((1-y).T, np.log(1-h))) /m).flatten() + reg\n",
    "    # Calling the gradient within the cost function makes it easier for gradient descent to run\n",
    "    grad = gradient(x, y, theta, lam)\n",
    "    return J, grad\n",
    "\n",
    "J, g = cost(X,y,theta,lam)\n"
   ]
  },
  {
   "cell_type": "code",
   "execution_count": 10,
   "metadata": {},
   "outputs": [],
   "source": [
    "def gradient_descent(X,y, theta, alpha, iterations, lam):\n",
    "    J_hist = []\n",
    "    for i in range(iterations):\n",
    "        J, grad = cost(X, y, theta, lam)\n",
    "        theta = theta - (alpha * grad)\n",
    "        J_hist.append(J)\n",
    "    return theta, J_hist\n",
    "\n",
    "theta, J_hist = gradient_descent(X, y, theta, alpha, iterations, lam)\n"
   ]
  },
  {
   "cell_type": "code",
   "execution_count": 11,
   "metadata": {},
   "outputs": [
    {
     "data": {
      "text/plain": [
       "(800,)"
      ]
     },
     "execution_count": 11,
     "metadata": {},
     "output_type": "execute_result"
    }
   ],
   "source": [
    "np.array((J_hist)).flatten().shape"
   ]
  },
  {
   "cell_type": "code",
   "execution_count": 12,
   "metadata": {},
   "outputs": [
    {
     "name": "stdout",
     "output_type": "stream",
     "text": [
      "Train Accuracy: 83.050847\n"
     ]
    }
   ],
   "source": [
    "def predict(x, theta):\n",
    "    m, _ = x.shape\n",
    "    p = np.zeros((m,1))\n",
    "    h = sigmoid(np.dot(x,theta))\n",
    "    for i in range(0, h.shape[0]):\n",
    "        if h[i] >= 0.5:\n",
    "            p[i, 0] = 1\n",
    "        else:\n",
    "            p[i, 0] = 0\n",
    "    return p\n",
    "\n",
    "pred = predict(X, theta)\n",
    "print ('Train Accuracy: %f' % ((y[np.where(pred == y)].size / y.size) * 100))"
   ]
  },
  {
   "cell_type": "code",
   "execution_count": 13,
   "metadata": {},
   "outputs": [
    {
     "data": {
      "image/png": "[encoded data removed]",
      "text/plain": [
       "<Figure size 432x288 with 1 Axes>"
      ]
     },
     "metadata": {
      "needs_background": "light"
     },
     "output_type": "display_data"
    }
   ],
   "source": [
    "# print(np.asarray(J_hist).shape)\n",
    "J_hist = np.array((J_hist)).flatten()\n",
    "\n",
    "# Plotting Cost over the Number of Iterations\n",
    "cost_x = np.arange(iterations)\n",
    "cost_y = J_hist\n",
    "\n",
    "#Plot both the data points as well as the line of best fit\n",
    "plt.plot(cost_x, cost_y)\n",
    "plt.xlabel(\"Number of Iterations\")\n",
    "plt.ylabel(\"Cost\")\n",
    "plt.show() "
   ]
  },
  {
   "cell_type": "code",
   "execution_count": 14,
   "metadata": {},
   "outputs": [],
   "source": [
    "def plot_decision_boundary(x1,x2):\n",
    "    y_plt = np.ones(1)\n",
    "    degree = 6\n",
    "    for i in range(1,degree+1):\n",
    "        for j in range(i+1):\n",
    "            y_plt = np.hstack((y_plt, x1**(i-j) * x2**j))\n",
    "    return y_plt"
   ]
  },
  {
   "cell_type": "code",
   "execution_count": 15,
   "metadata": {},
   "outputs": [
    {
     "data": {
      "image/png": "[encoded data removed]",
      "text/plain": [
       "<Figure size 432x288 with 1 Axes>"
      ]
     },
     "metadata": {
      "needs_background": "light"
     },
     "output_type": "display_data"
    }
   ],
   "source": [
    "# https://stackoverflow.com/questions/22294241/plotting-a-decision-boundary-separating-2-classes-using-matplotlibs-pyplot\n",
    "plt.scatter(x[pos, 0], x[pos, 1], marker='o', c='b')\n",
    "plt.scatter(x[neg, 0], x[neg, 1], marker='x', c='r')\n",
    "\n",
    "plt.xlabel('Exam 1 score')\n",
    "plt.ylabel('Exam 2 score')\n",
    "plt.legend(['y = 1', 'y = 0'])\n",
    "\n",
    "# # Plotting decision boundary\n",
    "num_points = 50\n",
    "x_vals = np.linspace(-1, 1.5, num_points)\n",
    "y_vals= np.linspace(-1, 1.5, num_points)\n",
    "contour = np.zeros((num_points, num_points))\n",
    "\n",
    "for i in range(num_points):\n",
    "    for j in range(num_points):\n",
    "        contour[i,j] = np.dot(plot_decision_boundary(x_vals[i], y_vals[j]), theta)\n",
    "  \n",
    "plt.contour(x_vals,y_vals,contour.T, 0)\n",
    "\n",
    "plt.show()"
   ]
  },
  {
   "cell_type": "code",
   "execution_count": 16,
   "metadata": {},
   "outputs": [
    {
     "name": "stdout",
     "output_type": "stream",
     "text": [
      "Theta final: \n",
      "[[ 0.88171557]\n",
      " [ 0.32544568]\n",
      " [ 0.74698044]\n",
      " [-1.36576901]\n",
      " [-0.49382491]\n",
      " [-0.87232047]\n",
      " [ 0.00879906]\n",
      " [-0.2141623 ]\n",
      " [-0.22116381]\n",
      " [-0.16481237]\n",
      " [-0.99927883]\n",
      " [-0.04341251]\n",
      " [-0.39081068]\n",
      " [-0.13822931]\n",
      " [-0.81047302]\n",
      " [-0.20578211]\n",
      " [-0.13059486]\n",
      " [-0.05015101]\n",
      " [-0.16800817]\n",
      " [-0.16538409]\n",
      " [-0.3971376 ]\n",
      " [-0.72188668]\n",
      " [ 0.00308987]\n",
      " [-0.19075397]\n",
      " [ 0.00146287]\n",
      " [-0.20823083]\n",
      " [-0.06622145]\n",
      " [-0.69676129]]\n"
     ]
    }
   ],
   "source": [
    "print(\"Theta final: \")\n",
    "print(theta)\n"
   ]
  },
  {
   "cell_type": "code",
   "execution_count": 17,
   "metadata": {},
   "outputs": [
    {
     "name": "stdout",
     "output_type": "stream",
     "text": [
      "Final cost 0.5800346290563771\n"
     ]
    }
   ],
   "source": [
    "print(\"Final cost\", J_hist[-1])"
   ]
  }
 ],
 "metadata": {
  "kernelspec": {
   "display_name": "Python 3",
   "language": "python",
   "name": "python3"
  },
  "language_info": {
   "codemirror_mode": {
    "name": "ipython",
    "version": 3
   },
   "file_extension": ".py",
   "mimetype": "text/x-python",
   "name": "python",
   "nbconvert_exporter": "python",
   "pygments_lexer": "ipython3",
   "version": "3.7.3"
  }
 },
 "nbformat": 4,
 "nbformat_minor": 2
}
