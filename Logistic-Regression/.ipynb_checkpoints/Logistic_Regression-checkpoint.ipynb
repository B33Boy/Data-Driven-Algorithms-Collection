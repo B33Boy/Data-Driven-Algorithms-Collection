{
 "cells": [
  {
   "cell_type": "code",
   "execution_count": 5,
   "metadata": {},
   "outputs": [],
   "source": [
    "import numpy as np\n",
    "import matplotlib.pyplot as plt"
   ]
  },
  {
   "cell_type": "code",
   "execution_count": 2,
   "metadata": {},
   "outputs": [],
   "source": [
    "#Parse data\n",
    "points = np.genfromtxt('ex2data1.txt', delimiter = ',')\n",
    "x = np.array(points[:,0:2])\n",
    "y = np.array(points[:,2])"
   ]
  },
  {
   "cell_type": "code",
   "execution_count": 3,
   "metadata": {},
   "outputs": [],
   "source": [
    "m = y.shape[0]\n",
    "\n",
    "#Add column of 1s to x\n",
    "x_temp = np.ones((m,3))\n",
    "x_temp[:,1:3] = x\n",
    "x = x_temp\n",
    "#Hyperparameters\n",
    "iterations = 400\n",
    "alpha = 0.01\n",
    "theta = np.array(([-24],[0.2],[0.2]))"
   ]
  },
  {
   "cell_type": "code",
   "execution_count": 4,
   "metadata": {},
   "outputs": [
    {
     "name": "stdout",
     "output_type": "stream",
     "text": [
      "[4.53978687e-05 5.00000000e-01 9.99954602e-01]\n"
     ]
    }
   ],
   "source": [
    "def sigmoid(z):\n",
    "    return 1/(1+np.exp(-z))\n",
    "\n",
    "print(sigmoid(np.array([-10,0,10])))"
   ]
  },
  {
   "cell_type": "code",
   "execution_count": 5,
   "metadata": {},
   "outputs": [
    {
     "name": "stdout",
     "output_type": "stream",
     "text": [
      "[0.69314718]\n"
     ]
    }
   ],
   "source": [
    "def cost(x,y,theta):\n",
    "    #print(x, theta.shape)\n",
    "    h = sigmoid(np.dot(x,theta))\n",
    "    J = (np.dot(-np.transpose(y), np.log(h)) - np.dot(np.transpose(1-y), np.log(1-h))) / m\n",
    "    return J\n",
    "          \n",
    "print(cost(x,y,np.array(([[0], [0], [0]]))))"
   ]
  },
  {
   "cell_type": "code",
   "execution_count": 6,
   "metadata": {},
   "outputs": [
    {
     "data": {
      "text/plain": [
       "array([0.04290299, 2.56623412, 2.64679737])"
      ]
     },
     "execution_count": 6,
     "metadata": {},
     "output_type": "execute_result"
    }
   ],
   "source": [
    "def gradient(theta,x,y):\n",
    "    m, n = x.shape\n",
    "    theta = theta.reshape(n,1)\n",
    "    y = y.reshape(m,1)\n",
    "    sigmoid_x_theta = sigmoid(x.dot(theta))\n",
    "    grad = ((x.T).dot(sigmoid_x_theta-y))/m\n",
    "    return grad.flatten()\n",
    "\n",
    "gradient(np.array([-24, 0.2, 0.2]), x, y)"
   ]
  },
  {
   "cell_type": "code",
   "execution_count": 7,
   "metadata": {},
   "outputs": [
    {
     "name": "stdout",
     "output_type": "stream",
     "text": [
      "Train Accuracy: 92.000000\n"
     ]
    }
   ],
   "source": [
    "def predict(theta, x):\n",
    "    m, n = x.shape\n",
    "    p = np.zeros((m,1))\n",
    "    h = sigmoid(np.dot(x,theta))\n",
    "    for i in range(0, h.shape[0]):\n",
    "        if h[i] > 0.5:\n",
    "            p[i, 0] = 1\n",
    "        else:\n",
    "            p[i, 0] = 0\n",
    "    \n",
    "    return p\n",
    "\n",
    "pred = predict(theta, x).flatten()\n",
    "print ('Train Accuracy: %f' % ((y[np.where(pred == y)].size / float(y.size)) * 100.0))"
   ]
  },
  {
   "cell_type": "code",
   "execution_count": 8,
   "metadata": {},
   "outputs": [
    {
     "data": {
      "image/png": "[encoded data removed]",
      "text/plain": [
       "<Figure size 432x288 with 1 Axes>"
      ]
     },
     "metadata": {},
     "output_type": "display_data"
    }
   ],
   "source": [
    "def plotData(x,y,theta):\n",
    "    \n",
    "    pos = np.where(y == 1)\n",
    "    neg = np.where(y == 0)\n",
    "    plt.scatter(x[pos, 0], x[pos, 1], marker='o', c='b')\n",
    "    plt.scatter(x[neg, 0], x[neg, 1], marker='x', c='r')\n",
    "\n",
    "    plt.xlabel('Exam 1 score')\n",
    "    plt.ylabel('Exam 2 score')\n",
    "    plt.legend(['y = 1', 'y = 0'])\n",
    "    \n",
    "    #Convert to 1D array\n",
    "    theta = theta.flatten() \n",
    "    x = np.linspace(20, 100, 50)\n",
    "    y = -(theta[0] + theta[1]*x)/theta[2]\n",
    "    \n",
    "    plt.plot(x, y)\n",
    "    plt.show()\n",
    "\n",
    "data = np.loadtxt('ex2data1.txt', delimiter=',')\n",
    "x = data[:, 0:2]\n",
    "y = data[:, 2]\n",
    "plotData(x,y,theta)"
   ]
  }
 ],
 "metadata": {
  "kernelspec": {
   "display_name": "Python 2",
   "language": "python",
   "name": "python2"
  },
  "language_info": {
   "codemirror_mode": {
    "name": "ipython",
    "version": 2
   },
   "file_extension": ".py",
   "mimetype": "text/x-python",
   "name": "python",
   "nbconvert_exporter": "python",
   "pygments_lexer": "ipython2",
   "version": "2.7.15"
  },
  "widgets": {
   "state": {},
   "version": "1.1.2"
  }
 },
 "nbformat": 4,
 "nbformat_minor": 2
}
