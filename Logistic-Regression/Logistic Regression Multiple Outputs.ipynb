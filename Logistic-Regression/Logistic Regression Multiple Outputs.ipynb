{
 "cells": [
  {
   "cell_type": "code",
   "execution_count": 1,
   "metadata": {},
   "outputs": [],
   "source": [
    "import numpy as np\n",
    "import matplotlib.pyplot as plt\n",
    "import scipy.io\n"
   ]
  },
  {
   "cell_type": "code",
   "execution_count": 2,
   "metadata": {},
   "outputs": [
    {
     "data": {
      "text/plain": [
       "{'__header__': b'MATLAB 5.0 MAT-file, Platform: GLNXA64, Created on: Sun Oct 16 13:09:09 2011',\n",
       " '__version__': '1.0',\n",
       " '__globals__': [],\n",
       " 'X': array([[0., 0., 0., ..., 0., 0., 0.],\n",
       "        [0., 0., 0., ..., 0., 0., 0.],\n",
       "        [0., 0., 0., ..., 0., 0., 0.],\n",
       "        ...,\n",
       "        [0., 0., 0., ..., 0., 0., 0.],\n",
       "        [0., 0., 0., ..., 0., 0., 0.],\n",
       "        [0., 0., 0., ..., 0., 0., 0.]]),\n",
       " 'y': array([[10],\n",
       "        [10],\n",
       "        [10],\n",
       "        ...,\n",
       "        [ 9],\n",
       "        [ 9],\n",
       "        [ 9]], dtype=uint8)}"
      ]
     },
     "execution_count": 2,
     "metadata": {},
     "output_type": "execute_result"
    }
   ],
   "source": [
    "mat = scipy.io.loadmat('ex3data1.mat')\n",
    "mat"
   ]
  },
  {
   "cell_type": "code",
   "execution_count": 3,
   "metadata": {},
   "outputs": [
    {
     "name": "stdout",
     "output_type": "stream",
     "text": [
      "(5000, 400) (5000, 1)\n"
     ]
    }
   ],
   "source": [
    "X = np.array((mat['X']))\n",
    "y = np.array((mat['y']))\n",
    "m, n = X.shape\n",
    "\n",
    "print(X.shape, y.shape)"
   ]
  },
  {
   "cell_type": "code",
   "execution_count": 4,
   "metadata": {},
   "outputs": [
    {
     "data": {
      "image/png": "[encoded data removed]",
      "text/plain": [
       "<Figure size 360x360 with 9 Axes>"
      ]
     },
     "metadata": {
      "needs_background": "light"
     },
     "output_type": "display_data"
    }
   ],
   "source": [
    "random_vec = np.random.randint(low=0, high=5000, size=9)\n",
    "# plt.imshow(X[0,:].reshape((20,20)))\n",
    "\n",
    "fig=plt.figure(figsize=(5, 5))\n",
    "columns = 3\n",
    "rows = 3\n",
    "for i in range(1, columns*rows +1):\n",
    "    img = X[random_vec[i-1],:].reshape((20,20), order='F') # Fortran ordering\n",
    "    fig.add_subplot(rows, columns, i)\n",
    "    plt.imshow(img, aspect=1)\n",
    "plt.show()"
   ]
  },
  {
   "cell_type": "code",
   "execution_count": 5,
   "metadata": {},
   "outputs": [],
   "source": [
    "lam = 3\n",
    "alpha = 0.5\n",
    "iterations = 500\n",
    "theta = np.array(([-2, -1, 1, 2])).reshape((4,1))\n",
    "\n",
    "X_t = np.hstack((np.ones((5,1)), np.reshape(np.arange(1,16)/10, (5,3), order='F')))\n",
    "y_t = np.array(([1, 0, 1, 0, 1])).reshape((5,1))\n"
   ]
  },
  {
   "cell_type": "code",
   "execution_count": 6,
   "metadata": {},
   "outputs": [],
   "source": [
    "def sigmoid(z):\n",
    "    return 1/(1+np.exp(-z))\n"
   ]
  },
  {
   "cell_type": "code",
   "execution_count": 7,
   "metadata": {},
   "outputs": [],
   "source": [
    "def gradient(x, y, theta, lam):\n",
    "    m = x.shape[0]\n",
    "    h = sigmoid(x.dot(theta))\n",
    "    reg = np.vstack((0, theta[1:theta.shape[0]] * lam/m))\n",
    "    grad = ((x.T).dot(h-y))/m + reg\n",
    "    return grad"
   ]
  },
  {
   "cell_type": "code",
   "execution_count": 8,
   "metadata": {},
   "outputs": [],
   "source": [
    "def cost(x, y, theta, lam):\n",
    "    m = x.shape[0]\n",
    "    h = sigmoid(x.dot(theta))\n",
    "    \n",
    "    reg = np.dot(theta.T,theta) * lam /(2*m)\n",
    "    J = ((np.dot(-y.T, np.log(h)) - np.dot((1-y).T, np.log(1-h))) /m).flatten() + reg\n",
    "    # Calling the gradient within the cost function makes it easier for gradient descent to run\n",
    "    grad = gradient(x, y, theta, lam)\n",
    "    return J, grad\n",
    "\n",
    "J, g = cost(X_t,y_t,theta,lam)"
   ]
  },
  {
   "cell_type": "code",
   "execution_count": 9,
   "metadata": {},
   "outputs": [],
   "source": [
    "def gradient_descent(X,y, theta, alpha, iterations, lam):\n",
    "    J_hist = []\n",
    "    for i in range(iterations):\n",
    "        J, grad = cost(X, y, theta, lam)\n",
    "        theta = theta - (alpha * grad)\n",
    "        J_hist.append(J)\n",
    "    return theta, J_hist\n",
    "\n",
    "# theta, J_hist = gradient_descent(X, y, theta, alpha, iterations, lam)\n"
   ]
  },
  {
   "cell_type": "code",
   "execution_count": null,
   "metadata": {},
   "outputs": [],
   "source": []
  }
 ],
 "metadata": {
  "kernelspec": {
   "display_name": "Python 3",
   "language": "python",
   "name": "python3"
  },
  "language_info": {
   "codemirror_mode": {
    "name": "ipython",
    "version": 3
   },
   "file_extension": ".py",
   "mimetype": "text/x-python",
   "name": "python",
   "nbconvert_exporter": "python",
   "pygments_lexer": "ipython3",
   "version": "3.7.3"
  }
 },
 "nbformat": 4,
 "nbformat_minor": 2
}
