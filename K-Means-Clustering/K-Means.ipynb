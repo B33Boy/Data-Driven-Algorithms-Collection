{
 "cells": [
  {
   "cell_type": "code",
   "execution_count": 1,
   "metadata": {},
   "outputs": [],
   "source": [
    "import pandas\n",
    "import numpy as np\n",
    "import random\n",
    "import matplotlib.pyplot as plt\n",
    "from scipy.spatial import Voronoi, voronoi_plot_2d"
   ]
  },
  {
   "cell_type": "code",
   "execution_count": 2,
   "metadata": {},
   "outputs": [],
   "source": [
    "points = np.genfromtxt('gen_cluster_2.txt', delimiter = ' ')\n",
    "m, n = points.shape\n",
    "\n",
    "x = np.array(points[:, :-1]) \n",
    "y = np.array(points[:, -1:]) # We do -1: to make sure the shape of y is (m,1) instead of (m,)"
   ]
  },
  {
   "cell_type": "code",
   "execution_count": 3,
   "metadata": {},
   "outputs": [],
   "source": [
    "def init_random_centroids(k):\n",
    "    return np.random.uniform(0, 20, size=(k,2))"
   ]
  },
  {
   "cell_type": "code",
   "execution_count": 4,
   "metadata": {},
   "outputs": [],
   "source": [
    "def init_centroids_at_points(k, points):\n",
    "    centroids = np.zeros((k, 2))\n",
    "    \n",
    "    rand_indices = np.unique(np.random.randint(points.shape[0], size=k))\n",
    "    while rand_indices.shape[0] != k:\n",
    "         rand_indices = np.unique(np.random.randint(points.shape[0], size=k))        \n",
    "    \n",
    "    centroids = points[rand_indices,:]\n",
    "    return centroids"
   ]
  },
  {
   "cell_type": "code",
   "execution_count": 5,
   "metadata": {},
   "outputs": [
    {
     "data": {
      "text/plain": [
       "array([[13.86309158, 12.88854511],\n",
       "       [14.99747383, 14.63820867],\n",
       "       [14.92957134, 14.68620754],\n",
       "       [15.25533306, 13.448193  ]])"
      ]
     },
     "execution_count": 5,
     "metadata": {},
     "output_type": "execute_result"
    }
   ],
   "source": [
    "# WIP\n",
    "def init_centroids_k_plus_plus(k, points):\n",
    "    centroids = np.zeros((k, 2))\n",
    "    pointz = np.copy(points)\n",
    "    rand_index = np.random.randint(pointz.shape[0])\n",
    "    centroids[0] = pointz[rand_index]\n",
    "    pointz = np.delete(pointz, rand_index, axis=0)\n",
    "    \n",
    "    for i in range(1, centroids.shape[0]):\n",
    "        farthest__index = np.argmax((centroids[i,0] - pointz[:,0])**2 + (centroids[i,1] - pointz[:,1])**2)\n",
    "        centroids[i] = pointz[farthest__index]\n",
    "        pointz = np.delete(pointz, farthest__index, axis=0)\n",
    "    \n",
    "    return centroids\n",
    "\n",
    "init_centroids_k_plus_plus(4, points)"
   ]
  },
  {
   "cell_type": "code",
   "execution_count": 6,
   "metadata": {},
   "outputs": [
    {
     "name": "stdout",
     "output_type": "stream",
     "text": [
      "[ 4.75324725 14.99747383 14.92957134 15.25533306] [ 1.47488954 14.63820867 14.68620754 13.448193  ]\n"
     ]
    }
   ],
   "source": [
    "# Test init_clusters\n",
    "centroids = init_centroids_k_plus_plus(4, points)\n",
    "c_x, c_y = centroids[:,0], centroids[:,1]\n",
    "\n",
    "print(c_x, c_y)"
   ]
  },
  {
   "cell_type": "code",
   "execution_count": 7,
   "metadata": {},
   "outputs": [
    {
     "data": {
      "image/png": "[encoded data removed]",
      "text/plain": [
       "<Figure size 432x288 with 1 Axes>"
      ]
     },
     "metadata": {
      "needs_background": "light"
     },
     "output_type": "display_data"
    }
   ],
   "source": [
    "plt.scatter(x, y, marker = 'o', label='points')\n",
    "plt.scatter(c_x, c_y, marker = 'o', label='cluster_centres')\n",
    "\n",
    "plt.show()"
   ]
  },
  {
   "cell_type": "code",
   "execution_count": 8,
   "metadata": {},
   "outputs": [],
   "source": [
    "def calculate_distances(centroids, points):\n",
    "    distances = np.zeros((points.shape[0], centroids.shape[0]))\n",
    "    \n",
    "    for c in range(centroids.shape[0]):\n",
    "        for p in range(points.shape[0]):\n",
    "            distances[p,c] = np.sqrt((centroids[c,0] - points[p,0])**2 + (centroids[c,1] - points[p,1])**2)\n",
    "\n",
    "    return distances"
   ]
  },
  {
   "cell_type": "code",
   "execution_count": 9,
   "metadata": {},
   "outputs": [],
   "source": [
    "dist = calculate_distances(centroids, points)"
   ]
  },
  {
   "cell_type": "code",
   "execution_count": 10,
   "metadata": {},
   "outputs": [],
   "source": [
    "def assign_closest_centroid(distances):\n",
    "    return np.argmin(distances, axis=1)"
   ]
  },
  {
   "cell_type": "code",
   "execution_count": 11,
   "metadata": {},
   "outputs": [],
   "source": [
    "closest_centroids = assign_closest_centroid(dist)"
   ]
  },
  {
   "cell_type": "code",
   "execution_count": 12,
   "metadata": {},
   "outputs": [],
   "source": [
    "cluster_list = []\n",
    "\n",
    "def move_centroids(centroids, closest_centroids):\n",
    "    for i in range(centroids.shape[0]):\n",
    "        relevant_points = np.array(np.where(closest_centroids == i))\n",
    "        if relevant_points.size != 0:\n",
    "            c_x[i] = np.mean(points[relevant_points, 0])\n",
    "            c_y[i] = np.mean(points[relevant_points, 1])"
   ]
  },
  {
   "cell_type": "code",
   "execution_count": 13,
   "metadata": {},
   "outputs": [],
   "source": [
    "move_centroids(centroids, closest_centroids)"
   ]
  },
  {
   "cell_type": "code",
   "execution_count": 14,
   "metadata": {},
   "outputs": [],
   "source": [
    "# for i in range(clusters.shape[0]):\n",
    "    \n",
    "#     relevant_points = np.array(np.where(closest_clusters == i))\n",
    "    \n",
    "#     c_x[i] = np.mean(points[relevant_points, 0])\n",
    "#     c_y[i] = np.mean(points[relevant_points, 1])\n",
    "\n",
    "# print(c_x, c_y)"
   ]
  },
  {
   "cell_type": "code",
   "execution_count": 15,
   "metadata": {},
   "outputs": [
    {
     "data": {
      "image/png": "[encoded data removed]",
      "text/plain": [
       "<Figure size 432x288 with 1 Axes>"
      ]
     },
     "metadata": {
      "needs_background": "light"
     },
     "output_type": "display_data"
    },
    {
     "data": {
      "image/png": "[encoded data removed]",
      "text/plain": [
       "<Figure size 432x288 with 1 Axes>"
      ]
     },
     "metadata": {
      "needs_background": "light"
     },
     "output_type": "display_data"
    }
   ],
   "source": [
    "plt.scatter(x, y, marker = 'o', label='data points')\n",
    "plt.scatter(c_x, c_y, marker = 'o', label='centroids')\n",
    "vor = Voronoi(centroids)\n",
    "voronoi_plot_2d(vor)\n",
    "plt.show()\n"
   ]
  },
  {
   "cell_type": "code",
   "execution_count": null,
   "metadata": {},
   "outputs": [],
   "source": []
  }
 ],
 "metadata": {
  "kernelspec": {
   "display_name": "Python 3",
   "language": "python",
   "name": "python3"
  },
  "language_info": {
   "codemirror_mode": {
    "name": "ipython",
    "version": 3
   },
   "file_extension": ".py",
   "mimetype": "text/x-python",
   "name": "python",
   "nbconvert_exporter": "python",
   "pygments_lexer": "ipython3",
   "version": "3.7.3"
  }
 },
 "nbformat": 4,
 "nbformat_minor": 2
}
